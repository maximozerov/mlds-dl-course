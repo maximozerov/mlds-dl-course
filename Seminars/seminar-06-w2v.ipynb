{
 "cells": [
  {
   "cell_type": "markdown",
   "id": "a90c041c",
   "metadata": {},
   "source": [
    "# Word2Vec training\n",
    "\n",
    "This notebook is based on the [word2vec-pytorch](https://github.com/OlgaChernytska/word2vec-pytorch/tree/18d4f24c4d82dde76de9f6e4d88bbcbcf68befc2) repo."
   ]
  },
  {
   "cell_type": "code",
   "execution_count": null,
   "id": "a652234c",
   "metadata": {},
   "outputs": [],
   "source": [
    "%%bash\n",
    "mkdir wikitext-2\n",
    "wget https://huggingface.co/datasets/wikitext/resolve/main/wikitext-2-v1/train-00000-of-00001.parquet?download=true -O wikitext-2/train.parquet\n",
    "wget https://huggingface.co/datasets/wikitext/resolve/main/wikitext-2-v1/validation-00000-of-00001.parquet?download=true -O wikitext-2/valid.parquet"
   ]
  },
  {
   "cell_type": "code",
   "execution_count": 6,
   "id": "df963e66",
   "metadata": {},
   "outputs": [],
   "source": [
    "import pandas as pd\n",
    "\n",
    "train = pd.read_parquet('wikitext-2/train.parquet')\n",
    "train.to_csv(r'wikitext-2/wiki.train.tokens', header=None, index=None, sep=' ', mode='a')\n",
    "valid = pd.read_parquet('wikitext-2/valid.parquet')\n",
    "valid.to_csv(r'wikitext-2/wiki.valid.tokens', header=None, index=None, sep=' ', mode='a')"
   ]
  },
  {
   "cell_type": "code",
   "execution_count": 1,
   "id": "cd95d968",
   "metadata": {},
   "outputs": [],
   "source": [
    "import torchtext\n",
    "\n",
    "assert torchtext.__version__ == '0.6.0'"
   ]
  },
  {
   "cell_type": "code",
   "execution_count": 2,
   "id": "282f0e5e",
   "metadata": {},
   "outputs": [],
   "source": [
    "import torch\n",
    "import numpy as np\n",
    "from torch import nn\n",
    "from torch.utils.data import Dataset, DataLoader\n",
    "from collections import Counter\n",
    "\n",
    "from torchtext.data.utils import get_tokenizer\n",
    "from torchtext.vocab import build_vocab_from_iterator, Vocab\n",
    "\n",
    "import matplotlib.pyplot as plt\n",
    "import seaborn as sns\n",
    "\n",
    "sns.set_style('whitegrid')\n",
    "plt.rcParams.update({'font.size': 14})"
   ]
  },
  {
   "cell_type": "code",
   "execution_count": 3,
   "id": "1b6b28f3",
   "metadata": {},
   "outputs": [],
   "source": [
    "TRAIN_TOKENS = 'wikitext-2/wiki.train.tokens'\n",
    "VALID_TOKENS = 'wikitext-2/wiki.valid.tokens'\n",
    "\n",
    "SKIPGRAM_N_WORDS = 4\n",
    "MIN_WORD_FREQUENCY = 20\n",
    "MAX_SEQUENCE_LENGTH = 256\n",
    "\n",
    "EMBED_DIM = 256\n",
    "EMBED_MAX_NORM = 1\n",
    "BATCH_SIZE = 16"
   ]
  },
  {
   "cell_type": "code",
   "execution_count": 4,
   "id": "394ba4d9",
   "metadata": {},
   "outputs": [],
   "source": [
    "tokenizer = get_tokenizer(\"basic_english\", language=\"en\")\n",
    "\n",
    "def load_and_preprocess_dataset(path):\n",
    "    with open(path, 'r') as file:\n",
    "        lines = file.readlines()\n",
    "\n",
    "    data = list(filter(\n",
    "        lambda sent: len(sent) > SKIPGRAM_N_WORDS * 2,\n",
    "        map(tokenizer, lines)\n",
    "    ))\n",
    "    return data"
   ]
  },
  {
   "cell_type": "code",
   "execution_count": 5,
   "id": "278e49c6",
   "metadata": {},
   "outputs": [
    {
     "name": "stdout",
     "output_type": "stream",
     "text": [
      "Num sentences: train - 35430, valid - 1892\n",
      "Total tokens: train - 4028676, valid - 211057\n",
      "Average tokens in sentence: 113.71\n"
     ]
    }
   ],
   "source": [
    "train_data = load_and_preprocess_dataset(TRAIN_TOKENS)\n",
    "valid_data = load_and_preprocess_dataset(VALID_TOKENS)\n",
    "\n",
    "total_train_tokens = sum(len(sent) for sent in train_data)\n",
    "total_valid_tokens = sum(len(sent) for sent in valid_data)\n",
    "\n",
    "print(f'Num sentences: train - {len(train_data)}, valid - {len(valid_data)}')\n",
    "print(f'Total tokens: train - {total_train_tokens}, valid - {total_valid_tokens}')\n",
    "print(f'Average tokens in sentence: {total_train_tokens / len(train_data):.2f}')"
   ]
  },
  {
   "cell_type": "code",
   "execution_count": 6,
   "id": "522172b6",
   "metadata": {},
   "outputs": [
    {
     "data": {
      "image/png": "[encoded data removed]",
      "text/plain": [
       "<Figure size 500x500 with 1 Axes>"
      ]
     },
     "metadata": {},
     "output_type": "display_data"
    }
   ],
   "source": [
    "_ = sns.displot([len(sent) for sent in train_data])"
   ]
  },
  {
   "cell_type": "code",
   "execution_count": 7,
   "id": "63143e9a",
   "metadata": {},
   "outputs": [],
   "source": [
    "counter = Counter(token for sent in train_data for token in sent)"
   ]
  },
  {
   "cell_type": "code",
   "execution_count": 8,
   "id": "e38ba813",
   "metadata": {},
   "outputs": [
    {
     "data": {
      "text/plain": [
       "28771"
      ]
     },
     "execution_count": 8,
     "metadata": {},
     "output_type": "execute_result"
    }
   ],
   "source": [
    "len(counter)"
   ]
  },
  {
   "cell_type": "code",
   "execution_count": 9,
   "id": "556e8d8c",
   "metadata": {},
   "outputs": [
    {
     "name": "stdout",
     "output_type": "stream",
     "text": [
      "Vocab size: 12860\n"
     ]
    }
   ],
   "source": [
    "vocab = Vocab(counter, min_freq=MIN_WORD_FREQUENCY, specials=['<unk>'])\n",
    "\n",
    "VOCAB_SIZE = len(vocab)\n",
    "print(f'Vocab size: {VOCAB_SIZE}')"
   ]
  },
  {
   "cell_type": "code",
   "execution_count": 10,
   "id": "05cde39b",
   "metadata": {},
   "outputs": [
    {
     "data": {
      "text/plain": [
       "['seaside', 'holiday', 'j', '.', 'salmon', ',', '1918', ',', '1921']"
      ]
     },
     "execution_count": 10,
     "metadata": {},
     "output_type": "execute_result"
    }
   ],
   "source": [
    "train_data[102]"
   ]
  },
  {
   "cell_type": "code",
   "execution_count": 11,
   "id": "3c39a6a5",
   "metadata": {},
   "outputs": [
    {
     "data": {
      "text/plain": [
       "[0, 3041, 1415, 3, 4855, 2, 2079, 2, 3157]"
      ]
     },
     "execution_count": 11,
     "metadata": {},
     "output_type": "execute_result"
    }
   ],
   "source": [
    "[vocab[token] for token in train_data[102]]"
   ]
  },
  {
   "cell_type": "code",
   "execution_count": 12,
   "id": "00736c8f",
   "metadata": {},
   "outputs": [],
   "source": [
    "def sent_to_idx(sent):\n",
    "    return [vocab[token] for token in sent]\n",
    "\n",
    "\n",
    "def collate_fn(batch):\n",
    "    \"\"\"\n",
    "    Collate_fn for Skip-Gram model to be used with Dataloader.\n",
    "    `batch` is expected to be list of text paragrahs.\n",
    "\n",
    "    Context is represented as N=SKIPGRAM_N_WORDS past words \n",
    "    and N=SKIPGRAM_N_WORDS future words.\n",
    "\n",
    "    Long paragraphs will be truncated to contain\n",
    "    no more that MAX_SEQUENCE_LENGTH tokens.\n",
    "\n",
    "    Each element in `batch_input` is a middle word.\n",
    "    Each element in `batch_output` is a context word.\n",
    "    \"\"\"\n",
    "    batch_input, batch_output = [], []\n",
    "    for text in batch:\n",
    "        text_tokens_ids = sent_to_idx(text)\n",
    "\n",
    "        if MAX_SEQUENCE_LENGTH:\n",
    "            text_tokens_ids = text_tokens_ids[:MAX_SEQUENCE_LENGTH]\n",
    "\n",
    "        for idx in range(len(text_tokens_ids) - SKIPGRAM_N_WORDS * 2):\n",
    "            token_id_sequence = text_tokens_ids[idx : (idx + SKIPGRAM_N_WORDS * 2 + 1)]\n",
    "            input_ = token_id_sequence.pop(SKIPGRAM_N_WORDS)\n",
    "            outputs = token_id_sequence\n",
    "\n",
    "            batch_input += [input_] * len(outputs)\n",
    "            batch_output += outputs\n",
    "\n",
    "    batch_input = torch.tensor(batch_input, dtype=torch.long)\n",
    "    batch_output = torch.tensor(batch_output, dtype=torch.long)\n",
    "    return batch_input, batch_output"
   ]
  },
  {
   "cell_type": "code",
   "execution_count": 13,
   "id": "b59934be",
   "metadata": {},
   "outputs": [],
   "source": [
    "out = collate_fn(train_data[4:8])"
   ]
  },
  {
   "cell_type": "code",
   "execution_count": 14,
   "id": "121b7426",
   "metadata": {},
   "outputs": [
    {
     "data": {
      "text/plain": [
       "(torch.Size([5688]), torch.Size([5688]))"
      ]
     },
     "execution_count": 14,
     "metadata": {},
     "output_type": "execute_result"
    }
   ],
   "source": [
    "out[0].shape, out[1].shape"
   ]
  },
  {
   "cell_type": "code",
   "execution_count": 15,
   "id": "1d544377",
   "metadata": {},
   "outputs": [],
   "source": [
    "train_loader = DataLoader(train_data, batch_size=BATCH_SIZE, num_workers=4,\n",
    "                          pin_memory=True, collate_fn=collate_fn, shuffle=True)\n",
    "valid_loader = DataLoader(valid_data, batch_size=BATCH_SIZE, num_workers=4,\n",
    "                          pin_memory=True, collate_fn=collate_fn)"
   ]
  },
  {
   "cell_type": "code",
   "execution_count": 16,
   "id": "f1ab2158",
   "metadata": {},
   "outputs": [],
   "source": [
    "from IPython.display import clear_output\n",
    "from tqdm.notebook import tqdm\n",
    "\n",
    "\n",
    "def plot_losses(train_losses, valid_losses):\n",
    "    clear_output()\n",
    "    plt.figure(figsize=(6, 4))\n",
    "    plt.plot(range(1, len(train_losses) + 1), train_losses, label='train', color='deepskyblue', linewidth=2)\n",
    "    plt.plot(range(1, len(valid_losses) + 1), valid_losses, label='valid', color='springgreen', linewidth=2)\n",
    "    plt.ylabel('loss')\n",
    "    plt.xlabel('epoch')\n",
    "    plt.legend()\n",
    "    plt.show()"
   ]
  },
  {
   "cell_type": "code",
   "execution_count": 17,
   "id": "5a903840",
   "metadata": {},
   "outputs": [],
   "source": [
    "def training_epoch(model, optimizer, criterion, train_loader, tqdm_desc):\n",
    "    train_loss, num_batches = 0.0, 1\n",
    "    model.train()\n",
    "    for inputs, outputs in tqdm(train_loader, desc=tqdm_desc):\n",
    "        inputs = inputs.to(device)\n",
    "        outputs = outputs.to(device)\n",
    "\n",
    "        optimizer.zero_grad()\n",
    "        logits = model(inputs)\n",
    "        loss = criterion(logits, outputs)\n",
    "        loss.backward()\n",
    "        optimizer.step()\n",
    "\n",
    "        train_loss += loss.item()\n",
    "        num_batches += 1\n",
    "\n",
    "    train_loss /= num_batches\n",
    "    return train_loss\n",
    "\n",
    "\n",
    "@torch.no_grad()\n",
    "def validation_epoch(model, criterion, valid_loader, tqdm_desc):\n",
    "    valid_loss, num_batches = 0.0, 0\n",
    "    model.eval()\n",
    "    for inputs, outputs in tqdm(valid_loader, desc=tqdm_desc):\n",
    "        inputs = inputs.to(device)\n",
    "        outputs = outputs.to(device)\n",
    "\n",
    "        logits = model(inputs)\n",
    "        loss = criterion(logits, outputs)\n",
    "\n",
    "        valid_loss += loss.item()\n",
    "        num_batches += 1\n",
    "\n",
    "    valid_loss /= num_batches\n",
    "    return valid_loss\n",
    "\n",
    "\n",
    "def train(model, optimizer, scheduler, criterion, train_loader, valid_loader, num_epochs):\n",
    "    train_losses, valid_losses = [], []\n",
    "\n",
    "    for epoch in range(1, num_epochs + 1):\n",
    "        train_loss = training_epoch(\n",
    "            model, optimizer, criterion, train_loader,\n",
    "            tqdm_desc=f'Training {epoch}/{num_epochs}'\n",
    "        )\n",
    "        valid_loss = validation_epoch(\n",
    "            model, criterion, valid_loader,\n",
    "            tqdm_desc=f'Validating {epoch}/{num_epochs}'\n",
    "        )\n",
    "\n",
    "        if scheduler is not None:\n",
    "            scheduler.step()\n",
    "\n",
    "        train_losses += [train_loss]\n",
    "        valid_losses += [valid_loss]\n",
    "        plot_losses(train_losses, valid_losses)"
   ]
  },
  {
   "cell_type": "code",
   "execution_count": 18,
   "id": "accac7cc",
   "metadata": {},
   "outputs": [],
   "source": [
    "class Word2VecModel(nn.Module):\n",
    "    def __init__(self, embed_dim, embed_max_norm, vocab_size):\n",
    "        super().__init__()\n",
    "        self.embeds = nn.Embedding(num_embeddings=vocab_size, embedding_dim=embed_dim,\n",
    "                                   max_norm=embed_max_norm)\n",
    "        self.decoder = nn.Linear(embed_dim, vocab_size)\n",
    "\n",
    "    def forward(self, tokens):\n",
    "        # tokens: (B, )\n",
    "        embeds = self.embeds(tokens)  # embeds: (B, E)\n",
    "        logits = self.decoder(embeds) # logits: (B, V)\n",
    "        return logits"
   ]
  },
  {
   "cell_type": "code",
   "execution_count": 19,
   "id": "b7342561",
   "metadata": {},
   "outputs": [
    {
     "data": {
      "text/plain": [
       "device(type='cuda', index=0)"
      ]
     },
     "execution_count": 19,
     "metadata": {},
     "output_type": "execute_result"
    }
   ],
   "source": [
    "device = torch.device('cuda:0' if torch.cuda.is_available() else 'cpu')\n",
    "device"
   ]
  },
  {
   "cell_type": "code",
   "execution_count": 20,
   "id": "de72dded",
   "metadata": {},
   "outputs": [],
   "source": [
    "NUM_EPOCHS = 20\n",
    "model = Word2VecModel(embed_dim=EMBED_DIM, embed_max_norm=EMBED_MAX_NORM,\n",
    "                      vocab_size=VOCAB_SIZE).to(device)\n",
    "optimizer = torch.optim.Adam(model.parameters(), lr=1e-3)\n",
    "scheduler = torch.optim.lr_scheduler.CosineAnnealingLR(optimizer, NUM_EPOCHS)\n",
    "criterion = nn.CrossEntropyLoss()"
   ]
  },
  {
   "cell_type": "code",
   "execution_count": 21,
   "id": "fe77396d",
   "metadata": {},
   "outputs": [
    {
     "data": {
      "text/plain": [
       "6597180"
      ]
     },
     "execution_count": 21,
     "metadata": {},
     "output_type": "execute_result"
    }
   ],
   "source": [
    "sum(param.numel() for param in model.parameters())"
   ]
  },
  {
   "cell_type": "code",
   "execution_count": 22,
   "id": "b69073d2",
   "metadata": {},
   "outputs": [
    {
     "data": {
      "image/png": "[encoded data removed]",
      "text/plain": [
       "<Figure size 600x400 with 1 Axes>"
      ]
     },
     "metadata": {},
     "output_type": "display_data"
    }
   ],
   "source": [
    "train(model, optimizer, scheduler, criterion, train_loader, valid_loader, NUM_EPOCHS)"
   ]
  },
  {
   "cell_type": "code",
   "execution_count": 23,
   "id": "d9c22212",
   "metadata": {},
   "outputs": [],
   "source": [
    "import re\n",
    "\n",
    "\n",
    "def get_similarities(embed_vector):\n",
    "    similarities = embed_matrix @ embed_vector / embed_norms / torch.norm(embed_vector)\n",
    "    top_indices = similarities.argsort(descending=True)\n",
    "    return similarities, top_indices\n",
    "\n",
    "\n",
    "def get_similar(query, num_similar=5):\n",
    "    print(f'Processing query \\\"{query}\\\"')\n",
    "    split_query = re.split('([^a-zA-Z0-9])', query)\n",
    "    index = vocab[split_query[0]]\n",
    "    embed_vector = torch.clone(embed_matrix[index])\n",
    "    if index > 0:\n",
    "        print(f'Found word \\\"{split_query[0]}\\\" in vocab')\n",
    "    else:\n",
    "        print(f'Word \\\"{split_query[0]}\\\" not in vocab, using <unk>')\n",
    "\n",
    "    for i in range(2, len(split_query), 2):\n",
    "        index = vocab[split_query[i]]\n",
    "        if index > 0:\n",
    "            print(f'Found word \\\"{split_query[i]}\\\" in vocab, ', end='')\n",
    "        else:\n",
    "            print(f'Word \\\"{split_query[i]}\\\" not in vocab, using <unk>, ', end='')\n",
    "        print(f'operation \\\"{split_query[i - 1]}\\\"')\n",
    "\n",
    "        if split_query[i - 1] == '+':\n",
    "            embed_vector += embed_matrix[index]\n",
    "        elif split_query[i - 1] == '-':\n",
    "            embed_vector -= embed_matrix[index]\n",
    "        else:\n",
    "            raise ValueError('Unknown operation')\n",
    "\n",
    "    similarities, top_indices = get_similarities(embed_vector)\n",
    "    print('Top similar:')\n",
    "    for top_index in top_indices[:num_similar]:\n",
    "        print(f'    {vocab.itos[top_index]}: sim = {similarities[top_index]:.4f}')"
   ]
  },
  {
   "cell_type": "code",
   "execution_count": 24,
   "id": "17e53619",
   "metadata": {},
   "outputs": [],
   "source": [
    "embed_matrix = model.embeds.weight.detach()\n",
    "embed_norms = (embed_matrix ** 2).sum(1).sqrt()"
   ]
  },
  {
   "cell_type": "code",
   "execution_count": 25,
   "id": "ff777fce",
   "metadata": {},
   "outputs": [
    {
     "name": "stdout",
     "output_type": "stream",
     "text": [
      "Processing query \"woman\"\n",
      "Found word \"woman\" in vocab\n",
      "Top similar:\n",
      "    woman: sim = 1.0000\n",
      "    girl: sim = 0.5826\n",
      "    man: sim = 0.5784\n",
      "    bearded: sim = 0.5440\n",
      "    person: sim = 0.5336\n"
     ]
    }
   ],
   "source": [
    "get_similar('woman')"
   ]
  },
  {
   "cell_type": "code",
   "execution_count": 26,
   "id": "0751cf39",
   "metadata": {},
   "outputs": [
    {
     "name": "stdout",
     "output_type": "stream",
     "text": [
      "Processing query \"s\"\n",
      "Found word \"s\" in vocab\n",
      "Top similar:\n",
      "    s: sim = 1.0000\n",
      "    ': sim = 0.7196\n",
      "    dante: sim = 0.4009\n",
      "    k: sim = 0.3712\n",
      "    thanks: sim = 0.3682\n",
      "    trujillo: sim = 0.3659\n",
      "    concludes: sim = 0.3632\n",
      "    declares: sim = 0.3566\n",
      "    fulfilled: sim = 0.3540\n",
      "    inich: sim = 0.3537\n"
     ]
    }
   ],
   "source": [
    "get_similar('s', num_similar=10)"
   ]
  },
  {
   "cell_type": "code",
   "execution_count": 27,
   "id": "f24a1844",
   "metadata": {},
   "outputs": [
    {
     "name": "stdout",
     "output_type": "stream",
     "text": [
      "Processing query \"kick\"\n",
      "Found word \"kick\" in vocab\n",
      "Top similar:\n",
      "    kick: sim = 1.0000\n",
      "    punt: sim = 0.6725\n",
      "    nc: sim = 0.6527\n",
      "    touchdown: sim = 0.6526\n",
      "    ecu: sim = 0.6411\n"
     ]
    }
   ],
   "source": [
    "get_similar('kick')"
   ]
  },
  {
   "cell_type": "code",
   "execution_count": 28,
   "id": "6996edc3",
   "metadata": {},
   "outputs": [
    {
     "name": "stdout",
     "output_type": "stream",
     "text": [
      "Processing query \"paris\"\n",
      "Found word \"paris\" in vocab\n",
      "Top similar:\n",
      "    paris: sim = 1.0000\n",
      "    conservatoire: sim = 0.5838\n",
      "    berlin: sim = 0.5681\n",
      "    huguenots: sim = 0.5132\n",
      "    opéra: sim = 0.5070\n"
     ]
    }
   ],
   "source": [
    "get_similar('paris')"
   ]
  },
  {
   "cell_type": "code",
   "execution_count": 29,
   "id": "43a72873",
   "metadata": {},
   "outputs": [
    {
     "name": "stdout",
     "output_type": "stream",
     "text": [
      "Processing query \"rome-italy+france\"\n",
      "Found word \"rome\" in vocab\n",
      "Found word \"italy\" in vocab, operation \"-\"\n",
      "Found word \"france\" in vocab, operation \"+\"\n",
      "Top similar:\n",
      "    rome: sim = 0.7993\n",
      "    france: sim = 0.5700\n",
      "    supper: sim = 0.4145\n",
      "    bishop: sim = 0.4126\n",
      "    granada: sim = 0.3848\n",
      "    anselm: sim = 0.3784\n",
      "    honorius: sim = 0.3772\n",
      "    treaty: sim = 0.3736\n",
      "    pius: sim = 0.3720\n",
      "    archbishop: sim = 0.3670\n"
     ]
    }
   ],
   "source": [
    "v = get_similar('rome-italy+france', num_similar=10)"
   ]
  },
  {
   "cell_type": "markdown",
   "id": "10ae5d04",
   "metadata": {},
   "source": [
    "# FastText for sentiment classification"
   ]
  },
  {
   "cell_type": "code",
   "execution_count": 13,
   "id": "5d733811",
   "metadata": {},
   "outputs": [
    {
     "name": "stdout",
     "output_type": "stream",
     "text": [
      "Warning: Your Kaggle API key is readable by other users on this system! To fix this, you can run 'chmod 600 /home/isadrtdinov/.kaggle/kaggle.json'\n",
      "Downloading bumble-dating-app-google-play-store-review.zip to /home/isadrtdinov/test\n"
     ]
    },
    {
     "name": "stderr",
     "output_type": "stream",
     "text": [
      "100%|██████████| 114k/114k [00:00<00:00, 427kB/s]\n"
     ]
    },
    {
     "name": "stdout",
     "output_type": "stream",
     "text": [
      "\n",
      "Archive:  bumble-dating-app-google-play-store-review.zip\n",
      "  inflating: bumble_google_play_reviews.csv  \n"
     ]
    }
   ],
   "source": [
    "%%bash\n",
    "kaggle datasets download -d shivkumarganesh/bumble-dating-app-google-play-store-review\n",
    "unzip bumble-dating-app-google-play-store-review.zip"
   ]
  },
  {
   "cell_type": "code",
   "execution_count": 30,
   "id": "6114b43f",
   "metadata": {},
   "outputs": [],
   "source": [
    "import pandas as pd\n",
    "import fasttext\n",
    "import fasttext.util\n",
    "\n",
    "import matplotlib.pyplot as plt\n",
    "import seaborn as sns\n",
    "\n",
    "sns.set_style('whitegrid')\n",
    "plt.rcParams.update({'font.size': 14})"
   ]
  },
  {
   "cell_type": "code",
   "execution_count": 31,
   "id": "b2bf448a",
   "metadata": {},
   "outputs": [
    {
     "data": {
      "text/html": [
       "<div>\n",
       "<style scoped>\n",
       "    .dataframe tbody tr th:only-of-type {\n",
       "        vertical-align: middle;\n",
       "    }\n",
       "\n",
       "    .dataframe tbody tr th {\n",
       "        vertical-align: top;\n",
       "    }\n",
       "\n",
       "    .dataframe thead th {\n",
       "        text-align: right;\n",
       "    }\n",
       "</style>\n",
       "<table border=\"1\" class=\"dataframe\">\n",
       "  <thead>\n",
       "    <tr style=\"text-align: right;\">\n",
       "      <th></th>\n",
       "      <th>reviewId</th>\n",
       "      <th>userName</th>\n",
       "      <th>content</th>\n",
       "      <th>score</th>\n",
       "      <th>thumbsUpCount</th>\n",
       "      <th>reviewCreatedVersion</th>\n",
       "      <th>at</th>\n",
       "      <th>appVersion</th>\n",
       "    </tr>\n",
       "  </thead>\n",
       "  <tbody>\n",
       "    <tr>\n",
       "      <th>0</th>\n",
       "      <td>172404a8-975a-4311-9286-e8289d84b001</td>\n",
       "      <td>Akos Romhanyi</td>\n",
       "      <td>Keeps crashing</td>\n",
       "      <td>3</td>\n",
       "      <td>0</td>\n",
       "      <td>8.116.0 build 8 50690</td>\n",
       "      <td>2024-05-30 22:17:28</td>\n",
       "      <td>8.116.0 build 8 50690</td>\n",
       "    </tr>\n",
       "    <tr>\n",
       "      <th>1</th>\n",
       "      <td>ce7c4096-b215-48a9-aac0-6fc34f6acbf0</td>\n",
       "      <td>Samir Shreaf</td>\n",
       "      <td>Best</td>\n",
       "      <td>5</td>\n",
       "      <td>0</td>\n",
       "      <td>8.71.0 build 7 50428</td>\n",
       "      <td>2024-05-30 22:10:49</td>\n",
       "      <td>8.71.0 build 7 50428</td>\n",
       "    </tr>\n",
       "    <tr>\n",
       "      <th>2</th>\n",
       "      <td>4293f5bd-1acf-42a8-a963-778b7c1d82a0</td>\n",
       "      <td>Kyle Schmidt</td>\n",
       "      <td>Cant leave 0 stars. Netflix hasn't worked in o...</td>\n",
       "      <td>1</td>\n",
       "      <td>0</td>\n",
       "      <td>8.116.0 build 8 50690</td>\n",
       "      <td>2024-05-30 22:04:20</td>\n",
       "      <td>8.116.0 build 8 50690</td>\n",
       "    </tr>\n",
       "    <tr>\n",
       "      <th>3</th>\n",
       "      <td>41555878-0aa5-4e0d-a677-f18717f2a018</td>\n",
       "      <td>SENTHIL KRISHNAN</td>\n",
       "      <td>I dont want this app and still now i am using ...</td>\n",
       "      <td>4</td>\n",
       "      <td>0</td>\n",
       "      <td>NaN</td>\n",
       "      <td>2024-05-30 21:56:32</td>\n",
       "      <td>NaN</td>\n",
       "    </tr>\n",
       "    <tr>\n",
       "      <th>4</th>\n",
       "      <td>cdaaf0d1-06b7-4c37-a772-a6aad724d19f</td>\n",
       "      <td>Odunayo Bukola-Balogun</td>\n",
       "      <td>Netflix at this point I need you to add a shar...</td>\n",
       "      <td>5</td>\n",
       "      <td>0</td>\n",
       "      <td>8.108.0 build 2 50642</td>\n",
       "      <td>2024-05-30 21:44:46</td>\n",
       "      <td>8.108.0 build 2 50642</td>\n",
       "    </tr>\n",
       "    <tr>\n",
       "      <th>...</th>\n",
       "      <td>...</td>\n",
       "      <td>...</td>\n",
       "      <td>...</td>\n",
       "      <td>...</td>\n",
       "      <td>...</td>\n",
       "      <td>...</td>\n",
       "      <td>...</td>\n",
       "      <td>...</td>\n",
       "    </tr>\n",
       "    <tr>\n",
       "      <th>111298</th>\n",
       "      <td>a760ead9-e7aa-4ed1-a651-5c37c3600dac</td>\n",
       "      <td>A Google user</td>\n",
       "      <td>i really like it! there are so many movies and...</td>\n",
       "      <td>5</td>\n",
       "      <td>0</td>\n",
       "      <td>NaN</td>\n",
       "      <td>2019-08-03 15:06:03</td>\n",
       "      <td>NaN</td>\n",
       "    </tr>\n",
       "    <tr>\n",
       "      <th>111299</th>\n",
       "      <td>4957f9e7-d7f4-4a52-9764-031cebcac83f</td>\n",
       "      <td>Captain Jeoy</td>\n",
       "      <td>I love Netflix. I always enjoy my time using it.</td>\n",
       "      <td>5</td>\n",
       "      <td>0</td>\n",
       "      <td>8.34.0 build 4 50250</td>\n",
       "      <td>2022-08-15 16:16:30</td>\n",
       "      <td>8.34.0 build 4 50250</td>\n",
       "    </tr>\n",
       "    <tr>\n",
       "      <th>111300</th>\n",
       "      <td>9acf7586-7abf-4b50-8c50-3ede3b2a42c4</td>\n",
       "      <td>Suryansh</td>\n",
       "      <td>Sound quality is very slow of movies</td>\n",
       "      <td>1</td>\n",
       "      <td>0</td>\n",
       "      <td>NaN</td>\n",
       "      <td>2020-08-17 07:26:58</td>\n",
       "      <td>NaN</td>\n",
       "    </tr>\n",
       "    <tr>\n",
       "      <th>111301</th>\n",
       "      <td>32870f7f-c461-4256-b602-75244ca60248</td>\n",
       "      <td>A Google user</td>\n",
       "      <td>Rate is very expensive.. bcos we see netflix s...</td>\n",
       "      <td>1</td>\n",
       "      <td>0</td>\n",
       "      <td>7.17.0 build 13 34346</td>\n",
       "      <td>2019-07-21 09:41:42</td>\n",
       "      <td>7.17.0 build 13 34346</td>\n",
       "    </tr>\n",
       "    <tr>\n",
       "      <th>111302</th>\n",
       "      <td>dc1352e9-10a8-41ca-ab23-05d045b08e90</td>\n",
       "      <td>suraj soni</td>\n",
       "      <td>this app is awesome for english movies ,series...</td>\n",
       "      <td>4</td>\n",
       "      <td>0</td>\n",
       "      <td>NaN</td>\n",
       "      <td>2020-05-24 11:04:08</td>\n",
       "      <td>NaN</td>\n",
       "    </tr>\n",
       "  </tbody>\n",
       "</table>\n",
       "<p>111301 rows × 8 columns</p>\n",
       "</div>"
      ],
      "text/plain": [
       "                                    reviewId                userName  \\\n",
       "0       172404a8-975a-4311-9286-e8289d84b001           Akos Romhanyi   \n",
       "1       ce7c4096-b215-48a9-aac0-6fc34f6acbf0            Samir Shreaf   \n",
       "2       4293f5bd-1acf-42a8-a963-778b7c1d82a0            Kyle Schmidt   \n",
       "3       41555878-0aa5-4e0d-a677-f18717f2a018        SENTHIL KRISHNAN   \n",
       "4       cdaaf0d1-06b7-4c37-a772-a6aad724d19f  Odunayo Bukola-Balogun   \n",
       "...                                      ...                     ...   \n",
       "111298  a760ead9-e7aa-4ed1-a651-5c37c3600dac           A Google user   \n",
       "111299  4957f9e7-d7f4-4a52-9764-031cebcac83f            Captain Jeoy   \n",
       "111300  9acf7586-7abf-4b50-8c50-3ede3b2a42c4                Suryansh   \n",
       "111301  32870f7f-c461-4256-b602-75244ca60248           A Google user   \n",
       "111302  dc1352e9-10a8-41ca-ab23-05d045b08e90              suraj soni   \n",
       "\n",
       "                                                  content  score  \\\n",
       "0                                          Keeps crashing      3   \n",
       "1                                                    Best      5   \n",
       "2       Cant leave 0 stars. Netflix hasn't worked in o...      1   \n",
       "3       I dont want this app and still now i am using ...      4   \n",
       "4       Netflix at this point I need you to add a shar...      5   \n",
       "...                                                   ...    ...   \n",
       "111298  i really like it! there are so many movies and...      5   \n",
       "111299   I love Netflix. I always enjoy my time using it.      5   \n",
       "111300               Sound quality is very slow of movies      1   \n",
       "111301  Rate is very expensive.. bcos we see netflix s...      1   \n",
       "111302  this app is awesome for english movies ,series...      4   \n",
       "\n",
       "        thumbsUpCount   reviewCreatedVersion                   at  \\\n",
       "0                   0  8.116.0 build 8 50690  2024-05-30 22:17:28   \n",
       "1                   0   8.71.0 build 7 50428  2024-05-30 22:10:49   \n",
       "2                   0  8.116.0 build 8 50690  2024-05-30 22:04:20   \n",
       "3                   0                    NaN  2024-05-30 21:56:32   \n",
       "4                   0  8.108.0 build 2 50642  2024-05-30 21:44:46   \n",
       "...               ...                    ...                  ...   \n",
       "111298              0                    NaN  2019-08-03 15:06:03   \n",
       "111299              0   8.34.0 build 4 50250  2022-08-15 16:16:30   \n",
       "111300              0                    NaN  2020-08-17 07:26:58   \n",
       "111301              0  7.17.0 build 13 34346  2019-07-21 09:41:42   \n",
       "111302              0                    NaN  2020-05-24 11:04:08   \n",
       "\n",
       "                   appVersion  \n",
       "0       8.116.0 build 8 50690  \n",
       "1        8.71.0 build 7 50428  \n",
       "2       8.116.0 build 8 50690  \n",
       "3                         NaN  \n",
       "4       8.108.0 build 2 50642  \n",
       "...                       ...  \n",
       "111298                    NaN  \n",
       "111299   8.34.0 build 4 50250  \n",
       "111300                    NaN  \n",
       "111301  7.17.0 build 13 34346  \n",
       "111302                    NaN  \n",
       "\n",
       "[111301 rows x 8 columns]"
      ]
     },
     "execution_count": 31,
     "metadata": {},
     "output_type": "execute_result"
    }
   ],
   "source": [
    "data = pd.read_csv('netflix_reviews.csv')\n",
    "data = data[data.content.notna()]\n",
    "data"
   ]
  },
  {
   "cell_type": "code",
   "execution_count": 32,
   "id": "b40ef514",
   "metadata": {},
   "outputs": [
    {
     "data": {
      "image/png": "[encoded data removed]",
      "text/plain": [
       "<Figure size 500x500 with 1 Axes>"
      ]
     },
     "metadata": {},
     "output_type": "display_data"
    }
   ],
   "source": [
    "X = data.content.apply(tokenizer).to_list()\n",
    "y = (data.score >= 4).to_numpy().astype(int)\n",
    "_ = sns.displot(y)"
   ]
  },
  {
   "cell_type": "code",
   "execution_count": 33,
   "id": "694fc868",
   "metadata": {},
   "outputs": [
    {
     "data": {
      "image/png": "[encoded data removed]",
      "text/plain": [
       "<Figure size 640x480 with 1 Axes>"
      ]
     },
     "metadata": {},
     "output_type": "display_data"
    }
   ],
   "source": [
    "plt.hist([len(sent) for sent in X], bins=100)\n",
    "plt.yscale('log')\n",
    "plt.ylabel('count')\n",
    "plt.xlabel('num words')\n",
    "plt.show()"
   ]
  },
  {
   "cell_type": "code",
   "execution_count": 34,
   "id": "16a144be",
   "metadata": {},
   "outputs": [
    {
     "data": {
      "text/plain": [
       "(83475, 27826)"
      ]
     },
     "execution_count": 34,
     "metadata": {},
     "output_type": "execute_result"
    }
   ],
   "source": [
    "from sklearn.model_selection import train_test_split\n",
    "\n",
    "X_train, X_test, y_train, y_test = train_test_split(X, y, test_size=0.25, random_state=42)\n",
    "len(X_train), len(X_test)"
   ]
  },
  {
   "cell_type": "code",
   "execution_count": 35,
   "id": "d021d805",
   "metadata": {
    "scrolled": false
   },
   "outputs": [
    {
     "name": "stderr",
     "output_type": "stream",
     "text": [
      "Warning : `load_model` does not return WordVectorModel or SupervisedModel any more, but a `FastText` object which is very similar.\n"
     ]
    }
   ],
   "source": [
    "fasttext.util.download_model('en', if_exists='ignore')\n",
    "ft = fasttext.load_model('cc.en.300.bin')"
   ]
  },
  {
   "cell_type": "code",
   "execution_count": 36,
   "id": "d38d8651",
   "metadata": {},
   "outputs": [
    {
     "data": {
      "text/plain": [
       "2000000"
      ]
     },
     "execution_count": 36,
     "metadata": {},
     "output_type": "execute_result"
    }
   ],
   "source": [
    "len(ft.words)"
   ]
  },
  {
   "cell_type": "code",
   "execution_count": 37,
   "id": "78839cc8",
   "metadata": {},
   "outputs": [
    {
     "data": {
      "text/plain": [
       "(300,)"
      ]
     },
     "execution_count": 37,
     "metadata": {},
     "output_type": "execute_result"
    }
   ],
   "source": [
    "ft.get_word_vector('mother').shape"
   ]
  },
  {
   "cell_type": "code",
   "execution_count": 38,
   "id": "5716953b",
   "metadata": {},
   "outputs": [
    {
     "data": {
      "text/plain": [
       "[(0.8316885828971863, 'father'),\n",
       " (0.8139842748641968, 'grandmother'),\n",
       " (0.8042423725128174, 'daughter'),\n",
       " (0.7595430612564087, 'aunt'),\n",
       " (0.7551708221435547, 'stepfather'),\n",
       " (0.7433159947395325, 'mom'),\n",
       " (0.7390366792678833, 'step-father'),\n",
       " (0.7379246950149536, 'stepmother'),\n",
       " (0.7268661856651306, 'step-mother'),\n",
       " (0.7265076041221619, 'sister')]"
      ]
     },
     "execution_count": 38,
     "metadata": {},
     "output_type": "execute_result"
    }
   ],
   "source": [
    "ft.get_nearest_neighbors('mother')"
   ]
  },
  {
   "cell_type": "code",
   "execution_count": 39,
   "id": "1b1bb3a8",
   "metadata": {},
   "outputs": [],
   "source": [
    "from sklearn.feature_extraction.text import TfidfVectorizer\n",
    "from sklearn.linear_model import LogisticRegression\n",
    "from sklearn.metrics import accuracy_score"
   ]
  },
  {
   "cell_type": "code",
   "execution_count": 40,
   "id": "dfe2eb0f",
   "metadata": {},
   "outputs": [],
   "source": [
    "X_train_sents = [' '.join(sent) for sent in X_train]\n",
    "X_test_sents = [' '.join(sent) for sent in X_test]"
   ]
  },
  {
   "cell_type": "code",
   "execution_count": 41,
   "id": "02ea04e8",
   "metadata": {},
   "outputs": [
    {
     "data": {
      "text/plain": [
       "((83475, 8129), (27826, 8129))"
      ]
     },
     "execution_count": 41,
     "metadata": {},
     "output_type": "execute_result"
    }
   ],
   "source": [
    "tf_idf = TfidfVectorizer(min_df=5).fit(X_train_sents)\n",
    "tf_idf_train = tf_idf.transform(X_train_sents)\n",
    "tf_idf_test = tf_idf.transform(X_test_sents)\n",
    "\n",
    "tf_idf_train.shape, tf_idf_test.shape"
   ]
  },
  {
   "cell_type": "code",
   "execution_count": 42,
   "id": "8e80207e",
   "metadata": {},
   "outputs": [],
   "source": [
    "lr = LogisticRegression(max_iter=1000).fit(tf_idf_train, y_train)"
   ]
  },
  {
   "cell_type": "code",
   "execution_count": 43,
   "id": "3fcf9b2f",
   "metadata": {},
   "outputs": [
    {
     "name": "stdout",
     "output_type": "stream",
     "text": [
      "Tf-idf + LogRegr train acc: 0.8812\n",
      "Tf-idf + LogRegr test acc: 0.8681\n"
     ]
    }
   ],
   "source": [
    "print(f'Tf-idf + LogRegr train acc: {accuracy_score(lr.predict(tf_idf_train), y_train):.4f}')\n",
    "print(f'Tf-idf + LogRegr test acc: {accuracy_score(lr.predict(tf_idf_test), y_test):.4f}')"
   ]
  },
  {
   "cell_type": "code",
   "execution_count": 44,
   "id": "c5002797",
   "metadata": {},
   "outputs": [],
   "source": [
    "def get_sentence_embedding(sent):\n",
    "    embeds = []\n",
    "    for word in sent:\n",
    "        embeds += [ft.get_word_vector(word)]\n",
    "\n",
    "    return np.stack(embeds, axis=0).mean(0)"
   ]
  },
  {
   "cell_type": "code",
   "execution_count": 45,
   "id": "9c2de438",
   "metadata": {},
   "outputs": [],
   "source": [
    "train_embeds = np.stack([get_sentence_embedding(sent) for sent in X_train], axis=0)\n",
    "test_embeds = np.stack([get_sentence_embedding(sent) for sent in X_test], axis=0)"
   ]
  },
  {
   "cell_type": "code",
   "execution_count": 46,
   "id": "047b4f6e",
   "metadata": {},
   "outputs": [],
   "source": [
    "lr = LogisticRegression(max_iter=1000).fit(train_embeds, y_train)"
   ]
  },
  {
   "cell_type": "code",
   "execution_count": 47,
   "id": "9d5c8102",
   "metadata": {},
   "outputs": [
    {
     "name": "stdout",
     "output_type": "stream",
     "text": [
      "FastText + LogRegr train acc: 0.8428\n",
      "FastText + LogRegr test acc: 0.8404\n"
     ]
    }
   ],
   "source": [
    "print(f'FastText + LogRegr train acc: {accuracy_score(lr.predict(train_embeds), y_train):.4f}')\n",
    "print(f'FastText + LogRegr test acc: {accuracy_score(lr.predict(test_embeds), y_test):.4f}')"
   ]
  },
  {
   "cell_type": "code",
   "execution_count": 57,
   "id": "5e4a9938",
   "metadata": {},
   "outputs": [],
   "source": [
    "BATCH_SIZE = 128\n",
    "MAX_SEQUENCE_LENGTH = 256\n",
    "MODEL_BLOCKS = 4\n",
    "MODEL_CHANNELS = 300\n",
    "NUM_EPOCHS = 5"
   ]
  },
  {
   "cell_type": "code",
   "execution_count": 58,
   "id": "bd885090",
   "metadata": {},
   "outputs": [],
   "source": [
    "class EmbeddingsDataset(Dataset):\n",
    "    def __init__(self, sents, targets, max_length):\n",
    "        super().__init__()\n",
    "        self.max_length = max_length\n",
    "        self.sents = sents\n",
    "        self.targets = targets\n",
    "    \n",
    "    def __len__(self):\n",
    "        return len(self.sents)\n",
    "\n",
    "    def __getitem__(self, item):\n",
    "        sent = self.sents[item]\n",
    "        length = min(len(sent), self.max_length)\n",
    "\n",
    "        embeds = []\n",
    "        for word in sent[:length]:\n",
    "            embeds += [torch.from_numpy(ft.get_word_vector(word).astype(np.float32))]\n",
    "        \n",
    "        embeds = torch.stack(embeds, dim=1)\n",
    "        padding = torch.zeros((embeds.shape[0], self.max_length - length))\n",
    "        embeds = torch.cat([embeds, padding], dim=1)\n",
    "        target = self.targets[item]\n",
    "        return embeds, length, target"
   ]
  },
  {
   "cell_type": "code",
   "execution_count": 59,
   "id": "35f890e8",
   "metadata": {},
   "outputs": [],
   "source": [
    "train_set = EmbeddingsDataset(X_train, y_train, max_length=MAX_SEQUENCE_LENGTH)\n",
    "test_set = EmbeddingsDataset(X_test, y_test, max_length=MAX_SEQUENCE_LENGTH)\n",
    "\n",
    "train_loader = DataLoader(train_set, batch_size=BATCH_SIZE, num_workers=4,\n",
    "                          pin_memory=True, shuffle=True)\n",
    "test_loader = DataLoader(test_set, batch_size=BATCH_SIZE, num_workers=4,\n",
    "                         pin_memory=True)"
   ]
  },
  {
   "cell_type": "code",
   "execution_count": 60,
   "id": "95d9476a",
   "metadata": {},
   "outputs": [],
   "source": [
    "class BasicBlock(nn.Module):\n",
    "    def __init__(self, num_channels, kernel_size, stride=1):\n",
    "        super().__init__()\n",
    "        padding = (kernel_size - 1) // 2\n",
    "        self.conv1 = nn.Conv1d(num_channels, num_channels, kernel_size,\n",
    "                               padding=padding, stride=stride, bias=False)\n",
    "        self.bn1 = nn.BatchNorm1d(num_channels)\n",
    "        self.conv2 = nn.Conv1d(num_channels, num_channels, kernel_size,\n",
    "                               padding=padding, bias=False)\n",
    "        self.bn2 = nn.BatchNorm1d(num_channels)\n",
    "        self.relu = nn.LeakyReLU(0.1)\n",
    "\n",
    "        if stride > 1:\n",
    "            self.shortcut = nn.Conv1d(num_channels, num_channels, kernel_size,\n",
    "                                      padding=padding, stride=stride, bias=False)\n",
    "        else:\n",
    "            self.shortcut = None\n",
    "\n",
    "    def forward(self, x):\n",
    "        out = self.conv1(x)\n",
    "        out = self.bn1(out)\n",
    "        out = self.relu(out)\n",
    "        out = self.conv2(out)\n",
    "        out = self.bn2(out)\n",
    "        if self.shortcut is not None:\n",
    "            x = self.shortcut(x)\n",
    "        out = self.relu(out + x)\n",
    "        return out\n",
    "\n",
    "\n",
    "class TextCNN(nn.Module):\n",
    "    def __init__(self, num_blocks, num_channels, num_classes, kernel_size=5):\n",
    "        super().__init__()\n",
    "        self.backbone = nn.Sequential(\n",
    "            *[BasicBlock(num_channels, kernel_size, stride=1) for i in range(num_blocks)]\n",
    "        )\n",
    "\n",
    "        self.classifier = nn.Linear(num_channels, num_classes)\n",
    "\n",
    "    @staticmethod\n",
    "    def get_lengths_mask(embeds, lengths):\n",
    "        mask = torch.arange(embeds.shape[-1]).unsqueeze(0).to(embeds.device)\n",
    "        mask = (mask < lengths.unsqueeze(1)).to(torch.float)\n",
    "        return mask.unsqueeze(1)\n",
    "\n",
    "    def forward(self, embeds, lengths):\n",
    "        # embeds: (B, C, T), lengths: (B, )\n",
    "        features = self.backbone(embeds)\n",
    "        # features: (B, C, T)\n",
    "        mask = self.get_lengths_mask(features, lengths)\n",
    "        # mask: (B, 1, T)\n",
    "        features = (features * mask).sum(-1) / lengths.unsqueeze(1)\n",
    "        # features: (B, C)\n",
    "        logits = self.classifier(features)\n",
    "        # logits: (B, num_classes)\n",
    "        return logits"
   ]
  },
  {
   "cell_type": "code",
   "execution_count": 61,
   "id": "7986a573",
   "metadata": {},
   "outputs": [],
   "source": [
    "from IPython.display import clear_output\n",
    "from tqdm.notebook import tqdm\n",
    "\n",
    "\n",
    "def plot_losses(train_losses, test_losses, train_accuracies, test_accuracies):\n",
    "    clear_output()\n",
    "    fig, axs = plt.subplots(1, 2, figsize=(13, 4))\n",
    "    axs[0].plot(range(1, len(train_losses) + 1), train_losses, label='train', color='deepskyblue', linewidth=2)\n",
    "    axs[0].plot(range(1, len(test_losses) + 1), test_losses, label='test', color='springgreen', linewidth=2)\n",
    "    axs[0].set_ylabel('loss')\n",
    "\n",
    "    axs[1].plot(range(1, len(train_accuracies) + 1), train_accuracies, label='train',\n",
    "                color='deepskyblue', linewidth=2)\n",
    "    axs[1].plot(range(1, len(test_accuracies) + 1), test_accuracies, label='test',\n",
    "                color='springgreen', linewidth=2)\n",
    "    axs[1].set_ylabel('accuracy')\n",
    "\n",
    "    for ax in axs:\n",
    "        ax.set_xlabel('epoch')\n",
    "        ax.legend()\n",
    "\n",
    "    plt.show()"
   ]
  },
  {
   "cell_type": "code",
   "execution_count": 62,
   "id": "a45bf024",
   "metadata": {},
   "outputs": [],
   "source": [
    "def training_epoch(model, optimizer, criterion, train_loader, tqdm_desc):\n",
    "    train_loss, train_accuracy = 0.0, 0.0\n",
    "    model.train()\n",
    "    for embeds, lengths, labels in tqdm(train_loader, desc=tqdm_desc):\n",
    "        embeds = embeds.to(device)\n",
    "        lengths = lengths.to(device)\n",
    "        labels = labels.to(device)\n",
    "        embeds = embeds[..., :lengths.max()]\n",
    "\n",
    "        optimizer.zero_grad()\n",
    "        logits = model(embeds, lengths)\n",
    "        loss = criterion(logits, labels)\n",
    "        loss.backward()\n",
    "        optimizer.step()\n",
    "\n",
    "        train_loss += loss.item() * embeds.shape[0]\n",
    "        train_accuracy += (logits.argmax(1) == labels).sum().item()\n",
    "\n",
    "    train_loss /= len(train_loader.dataset)\n",
    "    train_accuracy /= len(train_loader.dataset)\n",
    "    return train_loss, train_accuracy\n",
    "\n",
    "\n",
    "@torch.no_grad()\n",
    "def validation_epoch(model, criterion, valid_loader, tqdm_desc):\n",
    "    valid_loss, valid_accuracy = 0.0, 0.0\n",
    "    model.eval()\n",
    "    for embeds, lengths, labels in tqdm(valid_loader, desc=tqdm_desc):\n",
    "        embeds = embeds.to(device)\n",
    "        lengths = lengths.to(device)\n",
    "        labels = labels.to(device)\n",
    "        embeds = embeds[..., :lengths.max()]\n",
    "\n",
    "        logits = model(embeds, lengths)\n",
    "        loss = criterion(logits, labels)\n",
    "\n",
    "        valid_loss += loss.item() * embeds.shape[0]\n",
    "        valid_accuracy += (logits.argmax(1) == labels).sum().item()\n",
    "\n",
    "    valid_loss /= len(valid_loader.dataset)\n",
    "    valid_accuracy /= len(valid_loader.dataset)\n",
    "    return valid_loss, valid_accuracy\n",
    "\n",
    "\n",
    "def train(model, optimizer, scheduler, criterion, train_loader, valid_loader, num_epochs):\n",
    "    train_losses, valid_losses = [], []\n",
    "    train_accuracies, valid_accuracies = [], []\n",
    "\n",
    "    for epoch in range(1, num_epochs + 1):\n",
    "        train_loss, train_accuracy = training_epoch(\n",
    "            model, optimizer, criterion, train_loader,\n",
    "            tqdm_desc=f'Training {epoch}/{num_epochs}'\n",
    "        )\n",
    "        valid_loss, valid_accuracy = validation_epoch(\n",
    "            model, criterion, valid_loader,\n",
    "            tqdm_desc=f'Validating {epoch}/{num_epochs}'\n",
    "        )\n",
    "\n",
    "        if scheduler is not None:\n",
    "            scheduler.step()\n",
    "\n",
    "        train_losses += [train_loss]\n",
    "        train_accuracies += [train_accuracy]\n",
    "        valid_losses += [valid_loss]\n",
    "        valid_accuracies += [valid_accuracy]\n",
    "        plot_losses(train_losses, valid_losses, train_accuracies, valid_accuracies)"
   ]
  },
  {
   "cell_type": "code",
   "execution_count": 63,
   "id": "460dcee6",
   "metadata": {},
   "outputs": [
    {
     "data": {
      "text/plain": [
       "device(type='cuda', index=0)"
      ]
     },
     "execution_count": 63,
     "metadata": {},
     "output_type": "execute_result"
    }
   ],
   "source": [
    "device = torch.device('cuda:0' if torch.cuda.is_available() else 'cpu')\n",
    "device"
   ]
  },
  {
   "cell_type": "code",
   "execution_count": 64,
   "id": "b602cb49",
   "metadata": {},
   "outputs": [],
   "source": [
    "model = TextCNN(num_blocks=MODEL_BLOCKS, num_channels=MODEL_CHANNELS, num_classes=2).to(device)\n",
    "optimizer = torch.optim.Adam(model.parameters(), lr=1e-3)\n",
    "scheduler = torch.optim.lr_scheduler.CosineAnnealingLR(optimizer, NUM_EPOCHS)\n",
    "criterion = nn.CrossEntropyLoss()"
   ]
  },
  {
   "cell_type": "code",
   "execution_count": 65,
   "id": "ec787850",
   "metadata": {},
   "outputs": [
    {
     "data": {
      "image/png": "[encoded data removed]",
      "text/plain": [
       "<Figure size 1300x400 with 2 Axes>"
      ]
     },
     "metadata": {},
     "output_type": "display_data"
    }
   ],
   "source": [
    "train(model, optimizer, scheduler, criterion, train_loader, test_loader, NUM_EPOCHS)"
   ]
  },
  {
   "cell_type": "code",
   "execution_count": 66,
   "id": "43ef0564",
   "metadata": {},
   "outputs": [],
   "source": [
    "king = ft.get_word_vector('king')\n",
    "man = ft.get_word_vector('man')\n",
    "woman = ft.get_word_vector('woman')\n",
    "queen = ft.get_word_vector('queen')"
   ]
  },
  {
   "cell_type": "code",
   "execution_count": 67,
   "id": "3787aaa8",
   "metadata": {},
   "outputs": [],
   "source": [
    "x = king - man + woman"
   ]
  },
  {
   "cell_type": "code",
   "execution_count": 68,
   "id": "7144aced",
   "metadata": {},
   "outputs": [
    {
     "data": {
      "text/plain": [
       "0.65426797"
      ]
     },
     "execution_count": 68,
     "metadata": {},
     "output_type": "execute_result"
    }
   ],
   "source": [
    "x.T @ queen / np.linalg.norm(x) / np.linalg.norm(queen)"
   ]
  },
  {
   "cell_type": "code",
   "execution_count": 69,
   "id": "a754574f",
   "metadata": {},
   "outputs": [
    {
     "data": {
      "text/plain": [
       "[(0.7825557589530945, 'queens'),\n",
       " (0.7630643844604492, 'queen.The'),\n",
       " (0.7424576282501221, 'queen.'),\n",
       " (0.7288901805877686, 'queen-'),\n",
       " (0.7068520188331604, 'king'),\n",
       " (0.7014538645744324, 'queen.I'),\n",
       " (0.6840791702270508, 'Queen'),\n",
       " (0.6342887878417969, 'queened'),\n",
       " (0.6314161419868469, 'ex-beauty'),\n",
       " (0.6034907102584839, 'qeen')]"
      ]
     },
     "execution_count": 69,
     "metadata": {},
     "output_type": "execute_result"
    }
   ],
   "source": [
    "ft.get_nearest_neighbors('queen')"
   ]
  },
  {
   "cell_type": "code",
   "execution_count": null,
   "id": "02744823",
   "metadata": {},
   "outputs": [],
   "source": []
  }
 ],
 "metadata": {
  "kernelspec": {
   "display_name": "Python 3 (ipykernel)",
   "language": "python",
   "name": "python3"
  },
  "language_info": {
   "codemirror_mode": {
    "name": "ipython",
    "version": 3
   },
   "file_extension": ".py",
   "mimetype": "text/x-python",
   "name": "python",
   "nbconvert_exporter": "python",
   "pygments_lexer": "ipython3",
   "version": "3.8.13"
  }
 },
 "nbformat": 4,
 "nbformat_minor": 5
}
