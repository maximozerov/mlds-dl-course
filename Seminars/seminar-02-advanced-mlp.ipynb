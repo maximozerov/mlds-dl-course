{
 "cells": [
  {
   "cell_type": "code",
   "execution_count": 24,
   "id": "6aa2116b",
   "metadata": {},
   "outputs": [],
   "source": [
    "import random\n",
    "import torch\n",
    "from torch import nn\n",
    "from torchvision.datasets import MNIST\n",
    "from torchvision import transforms as T\n",
    "from torch.utils.data import DataLoader"
   ]
  },
  {
   "cell_type": "code",
   "execution_count": 5,
   "id": "dd947dd8",
   "metadata": {},
   "outputs": [
    {
     "data": {
      "text/plain": [
       "Dataset MNIST\n",
       "    Number of datapoints: 60000\n",
       "    Root location: /Users/isadrtdinov/datasets/mnist\n",
       "    Split: Train"
      ]
     },
     "execution_count": 5,
     "metadata": {},
     "output_type": "execute_result"
    }
   ],
   "source": [
    "train_set = MNIST('~/datasets/mnist', train=True, download=True)\n",
    "train_set"
   ]
  },
  {
   "cell_type": "code",
   "execution_count": 6,
   "id": "0b18dba4",
   "metadata": {},
   "outputs": [
    {
     "data": {
      "text/plain": [
       "60000"
      ]
     },
     "execution_count": 6,
     "metadata": {},
     "output_type": "execute_result"
    }
   ],
   "source": [
    "len(train_set)"
   ]
  },
  {
   "cell_type": "code",
   "execution_count": 7,
   "id": "f519ebcd",
   "metadata": {},
   "outputs": [
    {
     "data": {
      "text/plain": [
       "(<PIL.Image.Image image mode=L size=28x28>, 8)"
      ]
     },
     "execution_count": 7,
     "metadata": {},
     "output_type": "execute_result"
    }
   ],
   "source": [
    "i = random.randint(0, len(train_set) - 1)\n",
    "out = train_set[i]\n",
    "out"
   ]
  },
  {
   "cell_type": "code",
   "execution_count": 9,
   "id": "8e144eb7",
   "metadata": {},
   "outputs": [
    {
     "data": {
      "image/jpeg": "[encoded data removed]",
      "image/png": "[encoded data removed]",
      "text/plain": [
       "<PIL.Image.Image image mode=L size=300x300>"
      ]
     },
     "execution_count": 9,
     "metadata": {},
     "output_type": "execute_result"
    }
   ],
   "source": [
    "out[0].resize((300, 300))"
   ]
  },
  {
   "cell_type": "code",
   "execution_count": 15,
   "id": "1c3a3d6a",
   "metadata": {},
   "outputs": [],
   "source": [
    "to_tensor = T.ToTensor()\n",
    "train_set = MNIST('~/datasets/mnist', train=True, download=True, transform=to_tensor)\n",
    "test_set = MNIST('~/datasets/mnist', train=False, download=True, transform=to_tensor)"
   ]
  },
  {
   "cell_type": "code",
   "execution_count": 16,
   "id": "343ae05a",
   "metadata": {},
   "outputs": [],
   "source": [
    "i = random.randint(0, len(train_set) - 1)\n",
    "out = train_set[i]"
   ]
  },
  {
   "cell_type": "code",
   "execution_count": 18,
   "id": "b7e8bf60",
   "metadata": {},
   "outputs": [
    {
     "data": {
      "text/plain": [
       "torch.Size([1, 28, 28])"
      ]
     },
     "execution_count": 18,
     "metadata": {},
     "output_type": "execute_result"
    }
   ],
   "source": [
    "out[0].shape"
   ]
  },
  {
   "cell_type": "code",
   "execution_count": 20,
   "id": "3960b998",
   "metadata": {},
   "outputs": [],
   "source": [
    "train_loader = DataLoader(train_set, batch_size=64, pin_memory=True, shuffle=True, num_workers=4)\n",
    "test_loader = DataLoader(test_set, batch_size=64, pin_memory=True, shuffle=False, num_workers=4)"
   ]
  },
  {
   "cell_type": "code",
   "execution_count": 21,
   "id": "0a3b944b",
   "metadata": {},
   "outputs": [],
   "source": [
    "for images, labels in train_loader:\n",
    "    break"
   ]
  },
  {
   "cell_type": "code",
   "execution_count": 23,
   "id": "3e06d496",
   "metadata": {},
   "outputs": [
    {
     "data": {
      "text/plain": [
       "(torch.Size([64, 1, 28, 28]), torch.Size([64]))"
      ]
     },
     "execution_count": 23,
     "metadata": {},
     "output_type": "execute_result"
    }
   ],
   "source": [
    "images.shape, labels.shape"
   ]
  },
  {
   "cell_type": "code",
   "execution_count": 30,
   "id": "37862355",
   "metadata": {},
   "outputs": [],
   "source": [
    "nn.ModuleList?"
   ]
  },
  {
   "cell_type": "code",
   "execution_count": 33,
   "id": "17b8e6de",
   "metadata": {},
   "outputs": [],
   "source": [
    "class Net(nn.Module):\n",
    "    def __init__(self, num_hidden=32, num_classes=10):\n",
    "        super().__init__()\n",
    "        self.layers = nn.ModuleList([\n",
    "            nn.Linear(28 * 28, num_hidden),\n",
    "            nn.ReLU(),\n",
    "            nn.Linear(num_hidden, num_classes)\n",
    "        ])\n",
    "\n",
    "    def forward(self, x):\n",
    "        for layer in self.layers:\n",
    "            x = layer(x)\n",
    "        return x"
   ]
  },
  {
   "cell_type": "code",
   "execution_count": 39,
   "id": "b3b531ec",
   "metadata": {},
   "outputs": [
    {
     "data": {
      "text/plain": [
       "device(type='cpu')"
      ]
     },
     "execution_count": 39,
     "metadata": {},
     "output_type": "execute_result"
    }
   ],
   "source": [
    "device = torch.device('cuda:0' if torch.cuda.is_available() else 'cpu')\n",
    "device"
   ]
  },
  {
   "cell_type": "code",
   "execution_count": 54,
   "id": "bc148cd1",
   "metadata": {},
   "outputs": [
    {
     "data": {
      "text/plain": [
       "Net(\n",
       "  (layers): ModuleList(\n",
       "    (0): Linear(in_features=784, out_features=32, bias=True)\n",
       "    (1): ReLU()\n",
       "    (2): Linear(in_features=32, out_features=10, bias=True)\n",
       "  )\n",
       ")"
      ]
     },
     "execution_count": 54,
     "metadata": {},
     "output_type": "execute_result"
    }
   ],
   "source": [
    "net = Net().to(device)\n",
    "optimizer = torch.optim.SGD(net.parameters(), lr=1e-2, momentum=0.9)\n",
    "criterion = nn.CrossEntropyLoss()\n",
    "net"
   ]
  },
  {
   "cell_type": "code",
   "execution_count": 55,
   "id": "64437753",
   "metadata": {},
   "outputs": [
    {
     "name": "stdout",
     "output_type": "stream",
     "text": [
      "torch.Size([32, 784]) True\n",
      "torch.Size([32]) True\n",
      "torch.Size([10, 32]) True\n",
      "torch.Size([10]) True\n"
     ]
    }
   ],
   "source": [
    "for param in net.parameters():\n",
    "    print(param.shape, param.requires_grad)"
   ]
  },
  {
   "cell_type": "code",
   "execution_count": 56,
   "id": "3df6a2bd",
   "metadata": {},
   "outputs": [
    {
     "data": {
      "text/plain": [
       "25450"
      ]
     },
     "execution_count": 56,
     "metadata": {},
     "output_type": "execute_result"
    }
   ],
   "source": [
    "sum(param.numel() for param in net.parameters())"
   ]
  },
  {
   "cell_type": "code",
   "execution_count": 57,
   "id": "d2d79502",
   "metadata": {},
   "outputs": [
    {
     "data": {
      "text/plain": [
       "25450"
      ]
     },
     "execution_count": 57,
     "metadata": {},
     "output_type": "execute_result"
    }
   ],
   "source": [
    "32 * 784 + 32 + 10 * 32 + 10"
   ]
  },
  {
   "cell_type": "code",
   "execution_count": 58,
   "id": "52d77603",
   "metadata": {},
   "outputs": [],
   "source": [
    "x = torch.randn(512, 784)\n",
    "y = net(x)  # equivalent to net.forward(x)\n",
    "assert y.shape == (512, 10)"
   ]
  },
  {
   "cell_type": "code",
   "execution_count": 60,
   "id": "43c7a767",
   "metadata": {},
   "outputs": [
    {
     "name": "stdout",
     "output_type": "stream",
     "text": [
      "Epoch #1: train loss = 0.488, train accuracy = 86.48%, test loss = 0.273, test accuracy = 92.23%\n",
      "Epoch #2: train loss = 0.254, train accuracy = 92.69%, test loss = 0.222, test accuracy = 93.57%\n",
      "Epoch #3: train loss = 0.209, train accuracy = 94.01%, test loss = 0.183, test accuracy = 94.64%\n",
      "Epoch #4: train loss = 0.179, train accuracy = 94.80%, test loss = 0.164, test accuracy = 95.24%\n",
      "Epoch #5: train loss = 0.158, train accuracy = 95.45%, test loss = 0.150, test accuracy = 95.48%\n",
      "Epoch #6: train loss = 0.142, train accuracy = 95.83%, test loss = 0.141, test accuracy = 95.77%\n",
      "Epoch #7: train loss = 0.130, train accuracy = 96.24%, test loss = 0.139, test accuracy = 95.89%\n",
      "Epoch #8: train loss = 0.121, train accuracy = 96.42%, test loss = 0.127, test accuracy = 96.01%\n",
      "Epoch #9: train loss = 0.112, train accuracy = 96.70%, test loss = 0.124, test accuracy = 96.24%\n",
      "Epoch #10: train loss = 0.105, train accuracy = 96.91%, test loss = 0.115, test accuracy = 96.32%\n"
     ]
    }
   ],
   "source": [
    "num_epochs = 10\n",
    "\n",
    "for epoch in range(1, num_epochs + 1):\n",
    "    net.train()\n",
    "    train_loss, train_accuracy = 0.0, 0.0\n",
    "    for images, labels in train_loader:\n",
    "        # images: (B, 1, 28, 28), labels: (B, )\n",
    "        images = images.to(device)\n",
    "        labels = labels.to(device)\n",
    "        images = torch.flatten(images, start_dim=1)\n",
    "        # images: (B, 784)\n",
    "\n",
    "        optimizer.zero_grad()  # alternatively net.zero_grad()\n",
    "        logits = net(images)\n",
    "        # logits: (B, 10)\n",
    "        loss = criterion(logits, labels)\n",
    "        loss.backward()\n",
    "        optimizer.step()\n",
    "\n",
    "        train_loss += loss.item() * images.shape[0]\n",
    "        train_accuracy += (logits.argmax(dim=-1) == labels).sum().item()\n",
    "\n",
    "    train_loss /= len(train_loader.dataset)\n",
    "    train_accuracy /= len(train_loader.dataset)\n",
    "\n",
    "    net.eval()\n",
    "    test_loss, test_accuracy = 0.0, 0.0\n",
    "    for images, labels in test_loader:\n",
    "        # images: (B, 1, 28, 28), labels: (B, )\n",
    "        images = images.to(device)\n",
    "        labels = labels.to(device)\n",
    "        images = torch.flatten(images, start_dim=1)\n",
    "        # images: (B, 784)\n",
    "\n",
    "        with torch.inference_mode():  # torch.no_grad()\n",
    "            logits = net(images)\n",
    "            # logits: (B, 10)\n",
    "            loss = criterion(logits, labels)\n",
    "\n",
    "        test_loss += loss.item() * images.shape[0]\n",
    "        test_accuracy += (logits.argmax(dim=-1) == labels).sum().item()\n",
    "\n",
    "    test_loss /= len(test_loader.dataset)\n",
    "    test_accuracy /= len(test_loader.dataset)\n",
    "\n",
    "    print(\n",
    "        f'Epoch #{epoch}: train loss = {train_loss:.3f}, train accuracy = {train_accuracy * 100:.2f}%, '\n",
    "        f'test loss = {test_loss:.3f}, test accuracy = {test_accuracy * 100:.2f}%'\n",
    "    )"
   ]
  },
  {
   "cell_type": "code",
   "execution_count": null,
   "id": "3fb15197",
   "metadata": {},
   "outputs": [],
   "source": []
  }
 ],
 "metadata": {
  "kernelspec": {
   "display_name": "Python 3 (ipykernel)",
   "language": "python",
   "name": "python3"
  },
  "language_info": {
   "codemirror_mode": {
    "name": "ipython",
    "version": 3
   },
   "file_extension": ".py",
   "mimetype": "text/x-python",
   "name": "python",
   "nbconvert_exporter": "python",
   "pygments_lexer": "ipython3",
   "version": "3.10.4"
  }
 },
 "nbformat": 4,
 "nbformat_minor": 5
}
