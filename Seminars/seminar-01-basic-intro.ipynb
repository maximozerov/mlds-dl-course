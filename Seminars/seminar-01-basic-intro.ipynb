{
 "cells": [
  {
   "cell_type": "code",
   "execution_count": 98,
   "id": "aa6bc202",
   "metadata": {},
   "outputs": [],
   "source": [
    "import numpy as np\n",
    "import torch\n",
    "from tqdm.auto import tqdm"
   ]
  },
  {
   "cell_type": "code",
   "execution_count": 8,
   "id": "12ca2c0a",
   "metadata": {},
   "outputs": [
    {
     "data": {
      "text/plain": [
       "dtype('float64')"
      ]
     },
     "execution_count": 8,
     "metadata": {},
     "output_type": "execute_result"
    }
   ],
   "source": [
    "arr = np.array([\n",
    "    [1., 2., 3.],\n",
    "    [4., 5., 6.]\n",
    "])\n",
    "arr.dtype"
   ]
  },
  {
   "cell_type": "code",
   "execution_count": 36,
   "id": "fa9bb250",
   "metadata": {},
   "outputs": [
    {
     "name": "stdout",
     "output_type": "stream",
     "text": [
      "torch.float32\n"
     ]
    },
    {
     "data": {
      "text/plain": [
       "tensor([[1., 2., 3.],\n",
       "        [4., 5., 6.]])"
      ]
     },
     "execution_count": 36,
     "metadata": {},
     "output_type": "execute_result"
    }
   ],
   "source": [
    "a = torch.tensor([\n",
    "    [1., 2., 3.],\n",
    "    [4., 5., 6.]\n",
    "])\n",
    "print(a.dtype)\n",
    "a"
   ]
  },
  {
   "cell_type": "code",
   "execution_count": 10,
   "id": "57dd7197",
   "metadata": {},
   "outputs": [
    {
     "data": {
      "text/plain": [
       "tensor([[ 0.2684,  0.5165,  0.5102],\n",
       "        [ 0.0191, -0.6206, -0.7226]])"
      ]
     },
     "execution_count": 10,
     "metadata": {},
     "output_type": "execute_result"
    }
   ],
   "source": [
    "b = torch.randn(2, 3)\n",
    "b"
   ]
  },
  {
   "cell_type": "code",
   "execution_count": 11,
   "id": "8c6a4673",
   "metadata": {},
   "outputs": [
    {
     "data": {
      "text/plain": [
       "tensor([[1.2684, 2.5165, 3.5102],\n",
       "        [4.0191, 4.3794, 5.2774]])"
      ]
     },
     "execution_count": 11,
     "metadata": {},
     "output_type": "execute_result"
    }
   ],
   "source": [
    "a + b"
   ]
  },
  {
   "cell_type": "code",
   "execution_count": 12,
   "id": "ba1fad3c",
   "metadata": {},
   "outputs": [
    {
     "data": {
      "text/plain": [
       "tensor([[0.0000, 1.1618, 1.8299],\n",
       "        [1.4130, 0.8653, 0.8699]])"
      ]
     },
     "execution_count": 12,
     "metadata": {},
     "output_type": "execute_result"
    }
   ],
   "source": [
    "torch.log(a) * torch.exp(b)"
   ]
  },
  {
   "cell_type": "code",
   "execution_count": 13,
   "id": "0c60639a",
   "metadata": {},
   "outputs": [
    {
     "data": {
      "text/plain": [
       "tensor([ 6., 15.])"
      ]
     },
     "execution_count": 13,
     "metadata": {},
     "output_type": "execute_result"
    }
   ],
   "source": [
    "a.sum(dim=1)"
   ]
  },
  {
   "cell_type": "code",
   "execution_count": 37,
   "id": "6e0836bc",
   "metadata": {},
   "outputs": [
    {
     "data": {
      "text/plain": [
       "tensor([[  2.7183,   7.3891,  20.0855],\n",
       "        [ 54.5981, 148.4132, 403.4288]])"
      ]
     },
     "execution_count": 37,
     "metadata": {},
     "output_type": "execute_result"
    }
   ],
   "source": [
    "a.exp()"
   ]
  },
  {
   "cell_type": "code",
   "execution_count": 38,
   "id": "43605a13",
   "metadata": {},
   "outputs": [
    {
     "data": {
      "text/plain": [
       "tensor([[  2.7183,   7.3891,  20.0855],\n",
       "        [ 54.5981, 148.4132, 403.4288]])"
      ]
     },
     "execution_count": 38,
     "metadata": {},
     "output_type": "execute_result"
    }
   ],
   "source": [
    "torch.exp(a)"
   ]
  },
  {
   "cell_type": "markdown",
   "id": "251d3e81",
   "metadata": {},
   "source": [
    "### Module `torch.nn`"
   ]
  },
  {
   "cell_type": "code",
   "execution_count": 14,
   "id": "1fd1cf50",
   "metadata": {},
   "outputs": [],
   "source": [
    "from torch import nn"
   ]
  },
  {
   "cell_type": "code",
   "execution_count": 15,
   "id": "cf512e12",
   "metadata": {},
   "outputs": [],
   "source": [
    "nn.Linear?"
   ]
  },
  {
   "cell_type": "code",
   "execution_count": 16,
   "id": "49a52788",
   "metadata": {},
   "outputs": [],
   "source": [
    "m = nn.Linear(10, 20)"
   ]
  },
  {
   "cell_type": "code",
   "execution_count": 19,
   "id": "c617c9bc",
   "metadata": {},
   "outputs": [
    {
     "data": {
      "text/plain": [
       "torch.Size([20, 10])"
      ]
     },
     "execution_count": 19,
     "metadata": {},
     "output_type": "execute_result"
    }
   ],
   "source": [
    "m.weight.shape"
   ]
  },
  {
   "cell_type": "code",
   "execution_count": 21,
   "id": "788dd923",
   "metadata": {},
   "outputs": [
    {
     "data": {
      "text/plain": [
       "torch.Size([20])"
      ]
     },
     "execution_count": 21,
     "metadata": {},
     "output_type": "execute_result"
    }
   ],
   "source": [
    "m.bias.shape"
   ]
  },
  {
   "cell_type": "code",
   "execution_count": 28,
   "id": "3e62a05c",
   "metadata": {},
   "outputs": [
    {
     "data": {
      "text/plain": [
       "Parameter containing:\n",
       "tensor([[ 0.0396,  0.2348, -0.2423,  0.0317, -0.2611,  0.1648, -0.0094,  0.2765,\n",
       "         -0.1854,  0.0549],\n",
       "        [ 0.2165, -0.1234, -0.0480, -0.2518, -0.2536,  0.0185,  0.1113, -0.2797,\n",
       "          0.2622,  0.2261],\n",
       "        [-0.2583, -0.2331,  0.0629, -0.1224, -0.1140,  0.2575,  0.1226,  0.0546,\n",
       "         -0.0982,  0.1036],\n",
       "        [ 0.1150, -0.0920,  0.3155, -0.1483, -0.2483, -0.1029,  0.1410,  0.0962,\n",
       "          0.2209,  0.1673],\n",
       "        [ 0.0965,  0.2582,  0.2978,  0.1600,  0.1667,  0.0345, -0.2289, -0.0554,\n",
       "          0.0463,  0.1088],\n",
       "        [-0.2658,  0.0392,  0.1408, -0.2819, -0.1762, -0.1330,  0.2910,  0.2217,\n",
       "          0.0845,  0.3006],\n",
       "        [-0.0477, -0.1082,  0.0560, -0.1943, -0.1948,  0.0329, -0.0189, -0.2639,\n",
       "         -0.2066, -0.0566],\n",
       "        [ 0.2100, -0.2639, -0.0891, -0.0895, -0.1250, -0.1171, -0.1688,  0.1534,\n",
       "          0.2964,  0.2540],\n",
       "        [ 0.1191, -0.2045, -0.1911, -0.2563, -0.2796,  0.1011,  0.2600, -0.1555,\n",
       "          0.2132, -0.2528],\n",
       "        [ 0.0459,  0.0706,  0.1135,  0.2450,  0.0449, -0.0891, -0.1083,  0.1609,\n",
       "         -0.0246, -0.0838],\n",
       "        [-0.2320, -0.0565, -0.1817,  0.0733, -0.1699, -0.2410,  0.0505, -0.1589,\n",
       "         -0.0333, -0.2771],\n",
       "        [ 0.0579,  0.1077, -0.1395, -0.0542,  0.0589, -0.2820, -0.2223, -0.2393,\n",
       "         -0.0998,  0.2952],\n",
       "        [-0.2539, -0.0418, -0.2968,  0.1940, -0.2556, -0.2932,  0.1709, -0.0788,\n",
       "          0.0351, -0.3102],\n",
       "        [-0.3095, -0.2052, -0.0046,  0.2308,  0.2167, -0.2533, -0.1481, -0.2765,\n",
       "         -0.1407,  0.1421],\n",
       "        [ 0.2074, -0.2850,  0.0641,  0.1804, -0.1104, -0.2032,  0.0581, -0.1327,\n",
       "          0.2907, -0.1312],\n",
       "        [-0.1308, -0.2839,  0.1513,  0.1905, -0.3141, -0.0079, -0.2317, -0.0482,\n",
       "         -0.2646,  0.2241],\n",
       "        [ 0.2612,  0.1522,  0.0121, -0.2566,  0.1639, -0.1393, -0.1742, -0.2092,\n",
       "          0.0058, -0.1812],\n",
       "        [ 0.2088, -0.0516,  0.1335, -0.0610, -0.1837,  0.0649, -0.0648, -0.0430,\n",
       "          0.0941, -0.1332],\n",
       "        [-0.2753, -0.2646, -0.1226,  0.1949,  0.1746,  0.2031,  0.0769, -0.2126,\n",
       "         -0.0608, -0.2033],\n",
       "        [ 0.1573, -0.2385,  0.1994,  0.2149, -0.2114, -0.2330, -0.2161,  0.2776,\n",
       "          0.1632,  0.3001]], requires_grad=True)"
      ]
     },
     "execution_count": 28,
     "metadata": {},
     "output_type": "execute_result"
    }
   ],
   "source": [
    "m.weight"
   ]
  },
  {
   "cell_type": "markdown",
   "id": "41520ea1",
   "metadata": {},
   "source": [
    "### Backpropagation"
   ]
  },
  {
   "cell_type": "code",
   "execution_count": 39,
   "id": "24032ecb",
   "metadata": {},
   "outputs": [],
   "source": [
    "a = torch.tensor([\n",
    "    [1., 2., 3.],\n",
    "    [4., 5., 6.]\n",
    "], requires_grad=True)\n",
    "a.grad"
   ]
  },
  {
   "cell_type": "code",
   "execution_count": 40,
   "id": "4b167c1b",
   "metadata": {},
   "outputs": [
    {
     "data": {
      "text/plain": [
       "tensor(91., grad_fn=<SumBackward0>)"
      ]
     },
     "execution_count": 40,
     "metadata": {},
     "output_type": "execute_result"
    }
   ],
   "source": [
    "l = (a ** 2).sum()\n",
    "l"
   ]
  },
  {
   "cell_type": "code",
   "execution_count": 41,
   "id": "c67ccc85",
   "metadata": {},
   "outputs": [
    {
     "data": {
      "text/plain": [
       "tensor(91.)"
      ]
     },
     "execution_count": 41,
     "metadata": {},
     "output_type": "execute_result"
    }
   ],
   "source": [
    "torch.tensor(91.)"
   ]
  },
  {
   "cell_type": "markdown",
   "id": "b130b46e",
   "metadata": {},
   "source": [
    "$$\n",
    "\\frac{dl}{da} = (\\frac{dl}{da_1}, ..., \\frac{dl}{da_n}) = 2a\n",
    "$$\n",
    "\n",
    "$$\n",
    "\\frac{dl}{da_i} = 2a_i\n",
    "$$"
   ]
  },
  {
   "cell_type": "code",
   "execution_count": 42,
   "id": "c1cca77f",
   "metadata": {},
   "outputs": [],
   "source": [
    "l.backward()"
   ]
  },
  {
   "cell_type": "code",
   "execution_count": 43,
   "id": "1963345e",
   "metadata": {},
   "outputs": [
    {
     "data": {
      "text/plain": [
       "tensor([[ 2.,  4.,  6.],\n",
       "        [ 8., 10., 12.]])"
      ]
     },
     "execution_count": 43,
     "metadata": {},
     "output_type": "execute_result"
    }
   ],
   "source": [
    "a.grad"
   ]
  },
  {
   "cell_type": "code",
   "execution_count": 72,
   "id": "2bca5ffe",
   "metadata": {},
   "outputs": [
    {
     "data": {
      "text/plain": [
       "tensor([[ 0.2867,  0.3750,  0.3360],\n",
       "        [-0.4357, -1.3242, -0.9484],\n",
       "        [-0.6785,  2.0290, -0.7445]])"
      ]
     },
     "execution_count": 72,
     "metadata": {},
     "output_type": "execute_result"
    }
   ],
   "source": [
    "b = torch.randn(3, 3, requires_grad=True)\n",
    "b2 = torch.randn(3, 3, requires_grad=True)\n",
    "b2.data.copy_(b.data)"
   ]
  },
  {
   "cell_type": "code",
   "execution_count": 73,
   "id": "0a83f081",
   "metadata": {},
   "outputs": [],
   "source": [
    "l1 = b.abs()"
   ]
  },
  {
   "cell_type": "code",
   "execution_count": 74,
   "id": "7ee54abd",
   "metadata": {},
   "outputs": [
    {
     "ename": "RuntimeError",
     "evalue": "grad can be implicitly created only for scalar outputs",
     "output_type": "error",
     "traceback": [
      "\u001b[0;31m---------------------------------------------------------------------------\u001b[0m",
      "\u001b[0;31mRuntimeError\u001b[0m                              Traceback (most recent call last)",
      "Input \u001b[0;32mIn [74]\u001b[0m, in \u001b[0;36m<cell line: 1>\u001b[0;34m()\u001b[0m\n\u001b[0;32m----> 1\u001b[0m \u001b[43ml1\u001b[49m\u001b[38;5;241;43m.\u001b[39;49m\u001b[43mbackward\u001b[49m\u001b[43m(\u001b[49m\u001b[43m)\u001b[49m\n",
      "File \u001b[0;32m~/opt/anaconda3/envs/based/lib/python3.10/site-packages/torch/_tensor.py:487\u001b[0m, in \u001b[0;36mTensor.backward\u001b[0;34m(self, gradient, retain_graph, create_graph, inputs)\u001b[0m\n\u001b[1;32m    477\u001b[0m \u001b[38;5;28;01mif\u001b[39;00m has_torch_function_unary(\u001b[38;5;28mself\u001b[39m):\n\u001b[1;32m    478\u001b[0m     \u001b[38;5;28;01mreturn\u001b[39;00m handle_torch_function(\n\u001b[1;32m    479\u001b[0m         Tensor\u001b[38;5;241m.\u001b[39mbackward,\n\u001b[1;32m    480\u001b[0m         (\u001b[38;5;28mself\u001b[39m,),\n\u001b[0;32m   (...)\u001b[0m\n\u001b[1;32m    485\u001b[0m         inputs\u001b[38;5;241m=\u001b[39minputs,\n\u001b[1;32m    486\u001b[0m     )\n\u001b[0;32m--> 487\u001b[0m \u001b[43mtorch\u001b[49m\u001b[38;5;241;43m.\u001b[39;49m\u001b[43mautograd\u001b[49m\u001b[38;5;241;43m.\u001b[39;49m\u001b[43mbackward\u001b[49m\u001b[43m(\u001b[49m\n\u001b[1;32m    488\u001b[0m \u001b[43m    \u001b[49m\u001b[38;5;28;43mself\u001b[39;49m\u001b[43m,\u001b[49m\u001b[43m \u001b[49m\u001b[43mgradient\u001b[49m\u001b[43m,\u001b[49m\u001b[43m \u001b[49m\u001b[43mretain_graph\u001b[49m\u001b[43m,\u001b[49m\u001b[43m \u001b[49m\u001b[43mcreate_graph\u001b[49m\u001b[43m,\u001b[49m\u001b[43m \u001b[49m\u001b[43minputs\u001b[49m\u001b[38;5;241;43m=\u001b[39;49m\u001b[43minputs\u001b[49m\n\u001b[1;32m    489\u001b[0m \u001b[43m\u001b[49m\u001b[43m)\u001b[49m\n",
      "File \u001b[0;32m~/opt/anaconda3/envs/based/lib/python3.10/site-packages/torch/autograd/__init__.py:190\u001b[0m, in \u001b[0;36mbackward\u001b[0;34m(tensors, grad_tensors, retain_graph, create_graph, grad_variables, inputs)\u001b[0m\n\u001b[1;32m    186\u001b[0m inputs \u001b[38;5;241m=\u001b[39m (inputs,) \u001b[38;5;28;01mif\u001b[39;00m \u001b[38;5;28misinstance\u001b[39m(inputs, torch\u001b[38;5;241m.\u001b[39mTensor) \u001b[38;5;28;01melse\u001b[39;00m \\\n\u001b[1;32m    187\u001b[0m     \u001b[38;5;28mtuple\u001b[39m(inputs) \u001b[38;5;28;01mif\u001b[39;00m inputs \u001b[38;5;129;01mis\u001b[39;00m \u001b[38;5;129;01mnot\u001b[39;00m \u001b[38;5;28;01mNone\u001b[39;00m \u001b[38;5;28;01melse\u001b[39;00m \u001b[38;5;28mtuple\u001b[39m()\n\u001b[1;32m    189\u001b[0m grad_tensors_ \u001b[38;5;241m=\u001b[39m _tensor_or_tensors_to_tuple(grad_tensors, \u001b[38;5;28mlen\u001b[39m(tensors))\n\u001b[0;32m--> 190\u001b[0m grad_tensors_ \u001b[38;5;241m=\u001b[39m \u001b[43m_make_grads\u001b[49m\u001b[43m(\u001b[49m\u001b[43mtensors\u001b[49m\u001b[43m,\u001b[49m\u001b[43m \u001b[49m\u001b[43mgrad_tensors_\u001b[49m\u001b[43m,\u001b[49m\u001b[43m \u001b[49m\u001b[43mis_grads_batched\u001b[49m\u001b[38;5;241;43m=\u001b[39;49m\u001b[38;5;28;43;01mFalse\u001b[39;49;00m\u001b[43m)\u001b[49m\n\u001b[1;32m    191\u001b[0m \u001b[38;5;28;01mif\u001b[39;00m retain_graph \u001b[38;5;129;01mis\u001b[39;00m \u001b[38;5;28;01mNone\u001b[39;00m:\n\u001b[1;32m    192\u001b[0m     retain_graph \u001b[38;5;241m=\u001b[39m create_graph\n",
      "File \u001b[0;32m~/opt/anaconda3/envs/based/lib/python3.10/site-packages/torch/autograd/__init__.py:85\u001b[0m, in \u001b[0;36m_make_grads\u001b[0;34m(outputs, grads, is_grads_batched)\u001b[0m\n\u001b[1;32m     83\u001b[0m \u001b[38;5;28;01mif\u001b[39;00m out\u001b[38;5;241m.\u001b[39mrequires_grad:\n\u001b[1;32m     84\u001b[0m     \u001b[38;5;28;01mif\u001b[39;00m out\u001b[38;5;241m.\u001b[39mnumel() \u001b[38;5;241m!=\u001b[39m \u001b[38;5;241m1\u001b[39m:\n\u001b[0;32m---> 85\u001b[0m         \u001b[38;5;28;01mraise\u001b[39;00m \u001b[38;5;167;01mRuntimeError\u001b[39;00m(\u001b[38;5;124m\"\u001b[39m\u001b[38;5;124mgrad can be implicitly created only for scalar outputs\u001b[39m\u001b[38;5;124m\"\u001b[39m)\n\u001b[1;32m     86\u001b[0m     new_grads\u001b[38;5;241m.\u001b[39mappend(torch\u001b[38;5;241m.\u001b[39mones_like(out, memory_format\u001b[38;5;241m=\u001b[39mtorch\u001b[38;5;241m.\u001b[39mpreserve_format))\n\u001b[1;32m     87\u001b[0m \u001b[38;5;28;01melse\u001b[39;00m:\n",
      "\u001b[0;31mRuntimeError\u001b[0m: grad can be implicitly created only for scalar outputs"
     ]
    }
   ],
   "source": [
    "l1.backward()"
   ]
  },
  {
   "cell_type": "code",
   "execution_count": 75,
   "id": "38de1571",
   "metadata": {},
   "outputs": [],
   "source": [
    "l1 = b.abs().prod()\n",
    "l1.backward()"
   ]
  },
  {
   "cell_type": "code",
   "execution_count": 76,
   "id": "471663a9",
   "metadata": {},
   "outputs": [
    {
     "name": "stdout",
     "output_type": "stream",
     "text": [
      "dl1/db\n"
     ]
    },
    {
     "data": {
      "text/plain": [
       "tensor([[ 0.0707,  0.0540,  0.0603],\n",
       "        [-0.0465, -0.0153, -0.0214],\n",
       "        [-0.0299,  0.0100, -0.0272]])"
      ]
     },
     "execution_count": 76,
     "metadata": {},
     "output_type": "execute_result"
    }
   ],
   "source": [
    "print('dl1/db')\n",
    "b.grad"
   ]
  },
  {
   "cell_type": "code",
   "execution_count": 77,
   "id": "2eaeef76",
   "metadata": {},
   "outputs": [],
   "source": [
    "l2 = b2.exp().sum()\n",
    "l2.backward()"
   ]
  },
  {
   "cell_type": "code",
   "execution_count": 78,
   "id": "d381aa8b",
   "metadata": {},
   "outputs": [
    {
     "name": "stdout",
     "output_type": "stream",
     "text": [
      "dl1/db\n"
     ]
    },
    {
     "data": {
      "text/plain": [
       "tensor([[1.3321, 1.4550, 1.3994],\n",
       "        [0.6468, 0.2660, 0.3874],\n",
       "        [0.5074, 7.6068, 0.4750]])"
      ]
     },
     "execution_count": 78,
     "metadata": {},
     "output_type": "execute_result"
    }
   ],
   "source": [
    "print('dl1/db')\n",
    "b2.grad"
   ]
  },
  {
   "cell_type": "code",
   "execution_count": 79,
   "id": "cdaa6923",
   "metadata": {},
   "outputs": [],
   "source": [
    "l2 = b.exp().sum()\n",
    "l2.backward()"
   ]
  },
  {
   "cell_type": "code",
   "execution_count": 81,
   "id": "d6b8e9f9",
   "metadata": {},
   "outputs": [
    {
     "name": "stdout",
     "output_type": "stream",
     "text": [
      "dl1/db + dl2/db\n"
     ]
    },
    {
     "data": {
      "text/plain": [
       "tensor([[1.4027, 1.5090, 1.4597],\n",
       "        [0.6003, 0.2507, 0.3660],\n",
       "        [0.4775, 7.6168, 0.4478]])"
      ]
     },
     "execution_count": 81,
     "metadata": {},
     "output_type": "execute_result"
    }
   ],
   "source": [
    "print('dl1/db + dl2/db')\n",
    "b.grad"
   ]
  },
  {
   "cell_type": "code",
   "execution_count": 83,
   "id": "4d3f8a72",
   "metadata": {},
   "outputs": [],
   "source": [
    "b.grad = None\n",
    "l2 = b.exp().sum()\n",
    "l2.backward()"
   ]
  },
  {
   "cell_type": "code",
   "execution_count": 84,
   "id": "c09ccaff",
   "metadata": {},
   "outputs": [
    {
     "name": "stdout",
     "output_type": "stream",
     "text": [
      "dl2/db\n"
     ]
    },
    {
     "data": {
      "text/plain": [
       "tensor([[1.3321, 1.4550, 1.3994],\n",
       "        [0.6468, 0.2660, 0.3874],\n",
       "        [0.5074, 7.6068, 0.4750]])"
      ]
     },
     "execution_count": 84,
     "metadata": {},
     "output_type": "execute_result"
    }
   ],
   "source": [
    "print('dl2/db')\n",
    "b.grad"
   ]
  },
  {
   "cell_type": "code",
   "execution_count": 86,
   "id": "c5fed3e8",
   "metadata": {},
   "outputs": [
    {
     "data": {
      "text/plain": [
       "tensor([ 0.3978, -0.1723,  0.9669,  0.3814], requires_grad=True)"
      ]
     },
     "execution_count": 86,
     "metadata": {},
     "output_type": "execute_result"
    }
   ],
   "source": [
    "x = torch.randn(4, requires_grad=True)\n",
    "x"
   ]
  },
  {
   "cell_type": "code",
   "execution_count": 88,
   "id": "f8eaa2da",
   "metadata": {},
   "outputs": [],
   "source": [
    "l = (torch.exp(x) * torch.sin(x ** 3) + torch.log(1 + torch.abs(x)) / torch.sqrt(x)).mean()\n",
    "l.backward()"
   ]
  },
  {
   "cell_type": "code",
   "execution_count": 89,
   "id": "8aecd5c2",
   "metadata": {},
   "outputs": [
    {
     "data": {
      "text/plain": [
       "tensor([ 0.3978, -0.1723,  0.9669,  0.3814], requires_grad=True)"
      ]
     },
     "execution_count": 89,
     "metadata": {},
     "output_type": "execute_result"
    }
   ],
   "source": [
    "x"
   ]
  },
  {
   "cell_type": "code",
   "execution_count": 91,
   "id": "76489f43",
   "metadata": {},
   "outputs": [
    {
     "data": {
      "text/plain": [
       "tensor([ 0.5015, -0.7863,  0.1651,  0.7255], requires_grad=True)"
      ]
     },
     "execution_count": 91,
     "metadata": {},
     "output_type": "execute_result"
    }
   ],
   "source": [
    "x = torch.randn(4, requires_grad=True)\n",
    "x"
   ]
  },
  {
   "cell_type": "code",
   "execution_count": 92,
   "id": "2ebe9bbd",
   "metadata": {},
   "outputs": [
    {
     "data": {
      "text/plain": [
       "tensor(3)"
      ]
     },
     "execution_count": 92,
     "metadata": {},
     "output_type": "execute_result"
    }
   ],
   "source": [
    "l = x.argmax()\n",
    "l"
   ]
  },
  {
   "cell_type": "markdown",
   "id": "6c74b4a9",
   "metadata": {},
   "source": [
    "## Performance"
   ]
  },
  {
   "cell_type": "code",
   "execution_count": 131,
   "id": "e84456cc",
   "metadata": {},
   "outputs": [],
   "source": [
    "A = np.random.randn(200, 100).astype(np.float32)\n",
    "B = np.random.randn(100, 300).astype(np.float32)"
   ]
  },
  {
   "cell_type": "markdown",
   "id": "d813eec7",
   "metadata": {},
   "source": [
    "**1. Python loops**"
   ]
  },
  {
   "cell_type": "code",
   "execution_count": 132,
   "id": "14614d7f",
   "metadata": {},
   "outputs": [
    {
     "name": "stdout",
     "output_type": "stream",
     "text": [
      "CPU times: user 3.26 s, sys: 13.4 ms, total: 3.28 s\n",
      "Wall time: 3.28 s\n"
     ]
    }
   ],
   "source": [
    "%%time\n",
    "C = np.zeros((200, 300))\n",
    "\n",
    "for i in range(A.shape[0]):\n",
    "    for j in range(B.shape[1]):\n",
    "        for k in range(A.shape[1]):\n",
    "            C[i, j] += A[i, k] * B[k, j]"
   ]
  },
  {
   "cell_type": "markdown",
   "id": "dbbeda03",
   "metadata": {},
   "source": [
    "**2. Numpy**"
   ]
  },
  {
   "cell_type": "code",
   "execution_count": 133,
   "id": "4ae44df2",
   "metadata": {},
   "outputs": [
    {
     "name": "stdout",
     "output_type": "stream",
     "text": [
      "CPU times: user 2.1 ms, sys: 2.86 ms, total: 4.97 ms\n",
      "Wall time: 2.59 ms\n"
     ]
    }
   ],
   "source": [
    "%%time\n",
    "C1 = A @ B"
   ]
  },
  {
   "cell_type": "code",
   "execution_count": 134,
   "id": "9b264c9d",
   "metadata": {},
   "outputs": [
    {
     "data": {
      "text/plain": [
       "1.7014681361615658e-05"
      ]
     },
     "execution_count": 134,
     "metadata": {},
     "output_type": "execute_result"
    }
   ],
   "source": [
    "np.abs(C - C1).max()"
   ]
  },
  {
   "cell_type": "markdown",
   "id": "cae2a6e1",
   "metadata": {},
   "source": [
    "**3. Torch**"
   ]
  },
  {
   "cell_type": "code",
   "execution_count": 135,
   "id": "f8294057",
   "metadata": {},
   "outputs": [],
   "source": [
    "At = torch.from_numpy(A)\n",
    "Bt = torch.from_numpy(B)"
   ]
  },
  {
   "cell_type": "code",
   "execution_count": 136,
   "id": "c9f97f3d",
   "metadata": {},
   "outputs": [
    {
     "name": "stdout",
     "output_type": "stream",
     "text": [
      "CPU times: user 2.22 ms, sys: 2.93 ms, total: 5.14 ms\n",
      "Wall time: 7.89 ms\n"
     ]
    }
   ],
   "source": [
    "%%time\n",
    "C2 = At @ Bt"
   ]
  },
  {
   "cell_type": "code",
   "execution_count": 137,
   "id": "c2fa5cec",
   "metadata": {},
   "outputs": [
    {
     "data": {
      "text/plain": [
       "1.7014681361615658e-05"
      ]
     },
     "execution_count": 137,
     "metadata": {},
     "output_type": "execute_result"
    }
   ],
   "source": [
    "np.abs(C - C2.numpy()).max()"
   ]
  },
  {
   "cell_type": "markdown",
   "id": "eac2bf07",
   "metadata": {},
   "source": [
    "**4. Torch+MPS (MacOS with M1/M2/M3 only)**"
   ]
  },
  {
   "cell_type": "code",
   "execution_count": 138,
   "id": "88a0941e",
   "metadata": {},
   "outputs": [
    {
     "data": {
      "text/plain": [
       "device(type='mps')"
      ]
     },
     "execution_count": 138,
     "metadata": {},
     "output_type": "execute_result"
    }
   ],
   "source": [
    "device = torch.device('mps')\n",
    "device"
   ]
  },
  {
   "cell_type": "code",
   "execution_count": 139,
   "id": "aa5ebe40",
   "metadata": {},
   "outputs": [],
   "source": [
    "At = At.to(device)\n",
    "Bt = Bt.to(device)"
   ]
  },
  {
   "cell_type": "code",
   "execution_count": 140,
   "id": "0ec101c6",
   "metadata": {},
   "outputs": [
    {
     "name": "stdout",
     "output_type": "stream",
     "text": [
      "CPU times: user 1.69 ms, sys: 39.2 ms, total: 40.9 ms\n",
      "Wall time: 85.2 ms\n"
     ]
    }
   ],
   "source": [
    "%%time\n",
    "C3 = At @ Bt"
   ]
  },
  {
   "cell_type": "code",
   "execution_count": 142,
   "id": "fccdb568",
   "metadata": {},
   "outputs": [
    {
     "data": {
      "text/plain": [
       "1.7014681361615658e-05"
      ]
     },
     "execution_count": 142,
     "metadata": {},
     "output_type": "execute_result"
    }
   ],
   "source": [
    "np.abs(C - C3.cpu().numpy()).max()"
   ]
  },
  {
   "cell_type": "markdown",
   "id": "030c520a",
   "metadata": {},
   "source": [
    "**5. Torch+CUDA (GPU only, e.g. in Colab)**"
   ]
  },
  {
   "cell_type": "code",
   "execution_count": null,
   "id": "723a1709",
   "metadata": {},
   "outputs": [],
   "source": [
    "!nvidia-smi"
   ]
  },
  {
   "cell_type": "code",
   "execution_count": null,
   "id": "920ff65b",
   "metadata": {},
   "outputs": [],
   "source": [
    "device = torch.device('cuda:0' if torch.cuda.is_available() else 'cpu')\n",
    "device"
   ]
  },
  {
   "cell_type": "markdown",
   "id": "554bcdd6",
   "metadata": {},
   "source": [
    "Not recommended:"
   ]
  },
  {
   "cell_type": "code",
   "execution_count": null,
   "id": "8112199c",
   "metadata": {},
   "outputs": [],
   "source": [
    "A = torch.randn(200, 100).cuda()\n",
    "B = torch.randn(100, 300).cuda()\n",
    "A, B"
   ]
  },
  {
   "cell_type": "markdown",
   "id": "52959a94",
   "metadata": {},
   "source": [
    "Better:"
   ]
  },
  {
   "cell_type": "code",
   "execution_count": null,
   "id": "051198c3",
   "metadata": {},
   "outputs": [],
   "source": [
    "A = torch.randn(200, 100).to(device)\n",
    "B = torch.randn(100, 300).to(device)\n",
    "A, B"
   ]
  },
  {
   "cell_type": "code",
   "execution_count": null,
   "id": "7c91191e",
   "metadata": {},
   "outputs": [],
   "source": [
    "A = torch.randn(200, 100, device=device)\n",
    "B = torch.randn(100, 300, device=device)\n",
    "A, B"
   ]
  },
  {
   "cell_type": "code",
   "execution_count": null,
   "id": "f08729d3",
   "metadata": {},
   "outputs": [],
   "source": [
    "%%time\n",
    "C4 = A @ B"
   ]
  },
  {
   "cell_type": "code",
   "execution_count": null,
   "id": "bc4f785f",
   "metadata": {},
   "outputs": [],
   "source": [
    "np.abs(C - C4.cpu().numpy()).max()"
   ]
  }
 ],
 "metadata": {
  "kernelspec": {
   "display_name": "Python 3 (ipykernel)",
   "language": "python",
   "name": "python3"
  },
  "language_info": {
   "codemirror_mode": {
    "name": "ipython",
    "version": 3
   },
   "file_extension": ".py",
   "mimetype": "text/x-python",
   "name": "python",
   "nbconvert_exporter": "python",
   "pygments_lexer": "ipython3",
   "version": "3.10.4"
  }
 },
 "nbformat": 4,
 "nbformat_minor": 5
}
