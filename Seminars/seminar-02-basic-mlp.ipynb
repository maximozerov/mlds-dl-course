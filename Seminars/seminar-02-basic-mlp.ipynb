{
 "cells": [
  {
   "cell_type": "code",
   "execution_count": 1,
   "id": "0e3ae15e",
   "metadata": {},
   "outputs": [],
   "source": [
    "import random\n",
    "import torch\n",
    "from torch import nn\n",
    "from torchvision.datasets import MNIST\n",
    "import torchvision.transforms as T\n",
    "from torch.utils.data import DataLoader"
   ]
  },
  {
   "cell_type": "code",
   "execution_count": 2,
   "id": "3241edf4",
   "metadata": {},
   "outputs": [],
   "source": [
    "train_set = MNIST('~/datasets/mnist', train=True, download=True)"
   ]
  },
  {
   "cell_type": "code",
   "execution_count": 3,
   "id": "8495e958",
   "metadata": {},
   "outputs": [
    {
     "data": {
      "text/plain": [
       "Dataset MNIST\n",
       "    Number of datapoints: 60000\n",
       "    Root location: /Users/isadrtdinov/datasets/mnist\n",
       "    Split: Train"
      ]
     },
     "execution_count": 3,
     "metadata": {},
     "output_type": "execute_result"
    }
   ],
   "source": [
    "train_set"
   ]
  },
  {
   "cell_type": "code",
   "execution_count": 4,
   "id": "bd21403f",
   "metadata": {},
   "outputs": [
    {
     "data": {
      "text/plain": [
       "60000"
      ]
     },
     "execution_count": 4,
     "metadata": {},
     "output_type": "execute_result"
    }
   ],
   "source": [
    "len(train_set)"
   ]
  },
  {
   "cell_type": "code",
   "execution_count": 5,
   "id": "807ddb48",
   "metadata": {},
   "outputs": [
    {
     "data": {
      "text/plain": [
       "['0 - zero',\n",
       " '1 - one',\n",
       " '2 - two',\n",
       " '3 - three',\n",
       " '4 - four',\n",
       " '5 - five',\n",
       " '6 - six',\n",
       " '7 - seven',\n",
       " '8 - eight',\n",
       " '9 - nine']"
      ]
     },
     "execution_count": 5,
     "metadata": {},
     "output_type": "execute_result"
    }
   ],
   "source": [
    "train_set.classes"
   ]
  },
  {
   "cell_type": "code",
   "execution_count": 6,
   "id": "3ac84bb5",
   "metadata": {},
   "outputs": [
    {
     "data": {
      "text/plain": [
       "(<PIL.Image.Image image mode=L size=28x28>, 0)"
      ]
     },
     "execution_count": 6,
     "metadata": {},
     "output_type": "execute_result"
    }
   ],
   "source": [
    "i = random.randint(a=0, b=len(train_set) - 1)\n",
    "obj = train_set[i]\n",
    "obj"
   ]
  },
  {
   "cell_type": "code",
   "execution_count": 7,
   "id": "033a832d",
   "metadata": {},
   "outputs": [
    {
     "data": {
      "image/jpeg": "[encoded data removed]",
      "image/png": "[encoded data removed]",
      "text/plain": [
       "<PIL.Image.Image image mode=L size=300x300>"
      ]
     },
     "execution_count": 7,
     "metadata": {},
     "output_type": "execute_result"
    }
   ],
   "source": [
    "obj[0].resize((300, 300))"
   ]
  },
  {
   "cell_type": "code",
   "execution_count": 8,
   "id": "f486723d",
   "metadata": {},
   "outputs": [],
   "source": [
    "to_tensor = T.ToTensor()\n",
    "train_set = MNIST('~/datasets/mnist', train=True, download=True, transform=to_tensor)\n",
    "test_set = MNIST('~/datasets/mnist', train=False, download=True, transform=to_tensor)"
   ]
  },
  {
   "cell_type": "code",
   "execution_count": 9,
   "id": "f3996a46",
   "metadata": {},
   "outputs": [],
   "source": [
    "i = random.randint(a=0, b=len(train_set) - 1)\n",
    "obj = train_set[i]"
   ]
  },
  {
   "cell_type": "code",
   "execution_count": 10,
   "id": "9be76e26",
   "metadata": {},
   "outputs": [
    {
     "data": {
      "text/plain": [
       "torch.Size([1, 28, 28])"
      ]
     },
     "execution_count": 10,
     "metadata": {},
     "output_type": "execute_result"
    }
   ],
   "source": [
    "obj[0].shape"
   ]
  },
  {
   "cell_type": "code",
   "execution_count": 11,
   "id": "bf415e23",
   "metadata": {},
   "outputs": [
    {
     "data": {
      "text/plain": [
       "(tensor(0.), tensor(1.))"
      ]
     },
     "execution_count": 11,
     "metadata": {},
     "output_type": "execute_result"
    }
   ],
   "source": [
    "obj[0].min(), obj[0].max()"
   ]
  },
  {
   "cell_type": "code",
   "execution_count": 30,
   "id": "33e48be4",
   "metadata": {},
   "outputs": [],
   "source": [
    "DataLoader??"
   ]
  },
  {
   "cell_type": "code",
   "execution_count": 12,
   "id": "af37c767",
   "metadata": {},
   "outputs": [],
   "source": [
    "train_loader = DataLoader(train_set, batch_size=64, shuffle=True, pin_memory=True, num_workers=4)\n",
    "test_loader = DataLoader(test_set, batch_size=64, shuffle=False, pin_memory=True, num_workers=4)"
   ]
  },
  {
   "cell_type": "code",
   "execution_count": 13,
   "id": "c386dca3",
   "metadata": {},
   "outputs": [],
   "source": [
    "for images, labels in train_loader:\n",
    "    break"
   ]
  },
  {
   "cell_type": "code",
   "execution_count": 14,
   "id": "479cf9e8",
   "metadata": {},
   "outputs": [
    {
     "data": {
      "text/plain": [
       "torch.Size([64, 1, 28, 28])"
      ]
     },
     "execution_count": 14,
     "metadata": {},
     "output_type": "execute_result"
    }
   ],
   "source": [
    "images.shape"
   ]
  },
  {
   "cell_type": "code",
   "execution_count": 15,
   "id": "9bc93854",
   "metadata": {},
   "outputs": [
    {
     "data": {
      "text/plain": [
       "torch.Size([64])"
      ]
     },
     "execution_count": 15,
     "metadata": {},
     "output_type": "execute_result"
    }
   ],
   "source": [
    "labels.shape"
   ]
  },
  {
   "cell_type": "code",
   "execution_count": 16,
   "id": "9a7974d2",
   "metadata": {},
   "outputs": [],
   "source": [
    "class Net(nn.Module):\n",
    "    def __init__(self, num_classes=10, num_hidden=32):\n",
    "        super().__init__()\n",
    "        self.net = nn.Sequential(\n",
    "            nn.Linear(28 * 28, num_hidden),\n",
    "            nn.ReLU(),\n",
    "            nn.Linear(num_hidden, num_classes)\n",
    "        )\n",
    "\n",
    "    def forward(self, x):\n",
    "        return self.net(x)"
   ]
  },
  {
   "cell_type": "code",
   "execution_count": 17,
   "id": "032d3fe0",
   "metadata": {},
   "outputs": [
    {
     "data": {
      "text/plain": [
       "device(type='cpu')"
      ]
     },
     "execution_count": 17,
     "metadata": {},
     "output_type": "execute_result"
    }
   ],
   "source": [
    "device = torch.device('cuda:0' if torch.cuda.is_available() else 'cpu')\n",
    "device"
   ]
  },
  {
   "cell_type": "code",
   "execution_count": 18,
   "id": "a9f44b49",
   "metadata": {},
   "outputs": [
    {
     "data": {
      "text/plain": [
       "Net(\n",
       "  (net): Sequential(\n",
       "    (0): Linear(in_features=784, out_features=32, bias=True)\n",
       "    (1): ReLU()\n",
       "    (2): Linear(in_features=32, out_features=10, bias=True)\n",
       "  )\n",
       ")"
      ]
     },
     "execution_count": 18,
     "metadata": {},
     "output_type": "execute_result"
    }
   ],
   "source": [
    "net = Net().to(device)\n",
    "criterion = nn.CrossEntropyLoss()\n",
    "optimizer = torch.optim.SGD(net.parameters(), lr=1e-2, momentum=0.9)\n",
    "net"
   ]
  },
  {
   "cell_type": "code",
   "execution_count": 19,
   "id": "976ffb3a",
   "metadata": {},
   "outputs": [
    {
     "name": "stdout",
     "output_type": "stream",
     "text": [
      "torch.Size([32, 784])\n",
      "torch.Size([32])\n",
      "torch.Size([10, 32])\n",
      "torch.Size([10])\n"
     ]
    }
   ],
   "source": [
    "for param in net.parameters():\n",
    "    print(param.shape)"
   ]
  },
  {
   "cell_type": "code",
   "execution_count": 20,
   "id": "120368d6",
   "metadata": {},
   "outputs": [],
   "source": [
    "x = torch.randn(512, 28 * 28, device=device)\n",
    "y = net(x)\n",
    "assert y.shape == (512, 10)"
   ]
  },
  {
   "cell_type": "code",
   "execution_count": 21,
   "id": "87815d48",
   "metadata": {},
   "outputs": [
    {
     "name": "stdout",
     "output_type": "stream",
     "text": [
      "Epoch #1, train loss: 0.469, train acc: 86.96%, test loss: 0.257, test acc: 92.67%\n",
      "Epoch #2, train loss: 0.245, train acc: 92.95%, test loss: 0.208, test acc: 93.69%\n",
      "Epoch #3, train loss: 0.197, train acc: 94.31%, test loss: 0.172, test acc: 94.92%\n",
      "Epoch #4, train loss: 0.167, train acc: 95.12%, test loss: 0.153, test acc: 95.44%\n",
      "Epoch #5, train loss: 0.147, train acc: 95.74%, test loss: 0.141, test acc: 95.68%\n",
      "Epoch #6, train loss: 0.133, train acc: 96.10%, test loss: 0.134, test acc: 95.74%\n",
      "Epoch #7, train loss: 0.121, train acc: 96.43%, test loss: 0.123, test acc: 96.08%\n",
      "Epoch #8, train loss: 0.112, train acc: 96.68%, test loss: 0.114, test acc: 96.54%\n",
      "Epoch #9, train loss: 0.105, train acc: 96.89%, test loss: 0.111, test acc: 96.56%\n",
      "Epoch #10, train loss: 0.097, train acc: 97.17%, test loss: 0.108, test acc: 96.60%\n"
     ]
    }
   ],
   "source": [
    "num_epochs = 10\n",
    "\n",
    "for epoch in range(1, num_epochs + 1):\n",
    "    net.train()\n",
    "    train_loss, train_accuracy = 0.0, 0.0\n",
    "    for images, labels in train_loader:\n",
    "        # images: (B, 1, 28, 28), labels: (B, )\n",
    "        images = images.to(device)\n",
    "        labels = labels.to(device)\n",
    "        images = torch.flatten(images, start_dim=1)\n",
    "        # images: (B, 784)\n",
    "\n",
    "        optimizer.zero_grad()  # alternatively model.zero_grad()\n",
    "        logits = net(images)\n",
    "        # logits: (B, 10)\n",
    "        loss = criterion(logits, labels)\n",
    "        # loss is a scalar\n",
    "        loss.backward()\n",
    "        optimizer.step()\n",
    "\n",
    "        train_loss += loss.item() * images.shape[0]\n",
    "        train_accuracy += (logits.argmax(dim=-1) == labels).sum()\n",
    "\n",
    "    train_loss /= len(train_loader.dataset)\n",
    "    train_accuracy /= len(train_loader.dataset)\n",
    "\n",
    "    net.eval()\n",
    "    test_loss, test_accuracy = 0.0, 0.0\n",
    "    for images, labels in test_loader:\n",
    "        # images: (B, 1, 28, 28), labels: (B, )\n",
    "        images = images.to(device)\n",
    "        labels = labels.to(device)\n",
    "        images = torch.flatten(images, start_dim=1)\n",
    "        # images: (B, 784)\n",
    "\n",
    "        with torch.inference_mode():  # alternatively torch.no_grad()\n",
    "            logits = net(images)\n",
    "            # logits: (B, 10)\n",
    "            loss = criterion(logits, labels)\n",
    "            # loss is a scalar\n",
    "\n",
    "        test_loss += loss.item() * images.shape[0]\n",
    "        test_accuracy += (logits.argmax(dim=-1) == labels).sum()\n",
    "\n",
    "    test_loss /= len(test_loader.dataset)\n",
    "    test_accuracy /= len(test_loader.dataset)\n",
    "\n",
    "    print(\n",
    "        f'Epoch #{epoch}, train loss: {train_loss:.3f}, train acc: {train_accuracy * 100:.2f}%, '\n",
    "        f'test loss: {test_loss:.3f}, test acc: {test_accuracy * 100:.2f}%'\n",
    "    )"
   ]
  },
  {
   "cell_type": "code",
   "execution_count": null,
   "id": "ec7609e1",
   "metadata": {},
   "outputs": [],
   "source": []
  }
 ],
 "metadata": {
  "kernelspec": {
   "display_name": "Python 3 (ipykernel)",
   "language": "python",
   "name": "python3"
  },
  "language_info": {
   "codemirror_mode": {
    "name": "ipython",
    "version": 3
   },
   "file_extension": ".py",
   "mimetype": "text/x-python",
   "name": "python",
   "nbconvert_exporter": "python",
   "pygments_lexer": "ipython3",
   "version": "3.10.4"
  }
 },
 "nbformat": 4,
 "nbformat_minor": 5
}
