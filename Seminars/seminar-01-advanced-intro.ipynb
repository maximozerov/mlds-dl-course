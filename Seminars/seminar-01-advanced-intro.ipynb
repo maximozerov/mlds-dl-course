{
 "cells": [
  {
   "cell_type": "code",
   "execution_count": 2,
   "id": "6a1e5778",
   "metadata": {},
   "outputs": [],
   "source": [
    "import numpy as np\n",
    "import torch"
   ]
  },
  {
   "cell_type": "code",
   "execution_count": 14,
   "id": "942e2402",
   "metadata": {},
   "outputs": [
    {
     "data": {
      "text/plain": [
       "array([[3., 2., 3.],\n",
       "       [4., 5., 5.]])"
      ]
     },
     "execution_count": 14,
     "metadata": {},
     "output_type": "execute_result"
    }
   ],
   "source": [
    "a = np.array([\n",
    "    [3., 2., 3.],\n",
    "    [4., 5., 5.]\n",
    "])\n",
    "a"
   ]
  },
  {
   "cell_type": "code",
   "execution_count": 15,
   "id": "4e5dd316",
   "metadata": {},
   "outputs": [
    {
     "data": {
      "text/plain": [
       "dtype('float64')"
      ]
     },
     "execution_count": 15,
     "metadata": {},
     "output_type": "execute_result"
    }
   ],
   "source": [
    "a.dtype"
   ]
  },
  {
   "cell_type": "code",
   "execution_count": 16,
   "id": "302dc457",
   "metadata": {},
   "outputs": [
    {
     "data": {
      "text/plain": [
       "array([[0, 1, 2],\n",
       "       [3, 4, 5]])"
      ]
     },
     "execution_count": 16,
     "metadata": {},
     "output_type": "execute_result"
    }
   ],
   "source": [
    "a = np.arange(6).reshape(2, 3)\n",
    "a"
   ]
  },
  {
   "cell_type": "code",
   "execution_count": 17,
   "id": "e52142af",
   "metadata": {},
   "outputs": [
    {
     "data": {
      "text/plain": [
       "dtype('int64')"
      ]
     },
     "execution_count": 17,
     "metadata": {},
     "output_type": "execute_result"
    }
   ],
   "source": [
    "a.dtype"
   ]
  },
  {
   "cell_type": "code",
   "execution_count": 18,
   "id": "fcdb991e",
   "metadata": {},
   "outputs": [
    {
     "data": {
      "text/plain": [
       "array([ 3, 12])"
      ]
     },
     "execution_count": 18,
     "metadata": {},
     "output_type": "execute_result"
    }
   ],
   "source": [
    "a.sum(axis=1)"
   ]
  },
  {
   "cell_type": "code",
   "execution_count": 21,
   "id": "2888e4fd",
   "metadata": {},
   "outputs": [
    {
     "data": {
      "text/plain": [
       "tensor([[3., 2., 3.],\n",
       "        [4., 5., 5.]])"
      ]
     },
     "execution_count": 21,
     "metadata": {},
     "output_type": "execute_result"
    }
   ],
   "source": [
    "a = torch.tensor([\n",
    "    [3., 2., 3.],\n",
    "    [4., 5., 5.]\n",
    "])\n",
    "a"
   ]
  },
  {
   "cell_type": "code",
   "execution_count": 22,
   "id": "4758d9da",
   "metadata": {},
   "outputs": [
    {
     "data": {
      "text/plain": [
       "torch.Size([2, 3])"
      ]
     },
     "execution_count": 22,
     "metadata": {},
     "output_type": "execute_result"
    }
   ],
   "source": [
    "a.shape"
   ]
  },
  {
   "cell_type": "code",
   "execution_count": 23,
   "id": "b31f9d62",
   "metadata": {},
   "outputs": [
    {
     "data": {
      "text/plain": [
       "torch.float32"
      ]
     },
     "execution_count": 23,
     "metadata": {},
     "output_type": "execute_result"
    }
   ],
   "source": [
    "a.dtype"
   ]
  },
  {
   "cell_type": "code",
   "execution_count": 24,
   "id": "1c0ebd95",
   "metadata": {},
   "outputs": [],
   "source": [
    "b = torch.randn(2, 3)"
   ]
  },
  {
   "cell_type": "code",
   "execution_count": 25,
   "id": "17647db9",
   "metadata": {},
   "outputs": [
    {
     "data": {
      "text/plain": [
       "tensor([[2.1621, 1.9706, 3.2059],\n",
       "        [2.2287, 3.9863, 7.0595]])"
      ]
     },
     "execution_count": 25,
     "metadata": {},
     "output_type": "execute_result"
    }
   ],
   "source": [
    "a + b"
   ]
  },
  {
   "cell_type": "code",
   "execution_count": 26,
   "id": "d4b70154",
   "metadata": {},
   "outputs": [
    {
     "data": {
      "text/plain": [
       "tensor([[-1.0514, -0.0242,  0.2585],\n",
       "        [-3.8652, -4.1785,  8.4860]])"
      ]
     },
     "execution_count": 26,
     "metadata": {},
     "output_type": "execute_result"
    }
   ],
   "source": [
    "torch.exp(a) * torch.sin(b / (1 + a) ** 2)"
   ]
  },
  {
   "cell_type": "code",
   "execution_count": 29,
   "id": "eba18318",
   "metadata": {},
   "outputs": [
    {
     "data": {
      "text/plain": [
       "tensor([ 8., 14.])"
      ]
     },
     "execution_count": 29,
     "metadata": {},
     "output_type": "execute_result"
    }
   ],
   "source": [
    "a.sum(dim=1)"
   ]
  },
  {
   "cell_type": "markdown",
   "id": "f70a5b8e",
   "metadata": {},
   "source": [
    "### Module `torch.nn`"
   ]
  },
  {
   "cell_type": "code",
   "execution_count": 30,
   "id": "ee9c3ddd",
   "metadata": {},
   "outputs": [],
   "source": [
    "from torch import nn"
   ]
  },
  {
   "cell_type": "code",
   "execution_count": 31,
   "id": "5cf7055e",
   "metadata": {},
   "outputs": [],
   "source": [
    "m = nn.Linear(16, 32)"
   ]
  },
  {
   "cell_type": "code",
   "execution_count": 33,
   "id": "9cacee1f",
   "metadata": {},
   "outputs": [
    {
     "data": {
      "text/plain": [
       "torch.Size([32, 16])"
      ]
     },
     "execution_count": 33,
     "metadata": {},
     "output_type": "execute_result"
    }
   ],
   "source": [
    "m.weight.shape"
   ]
  },
  {
   "cell_type": "code",
   "execution_count": 34,
   "id": "38f5b65a",
   "metadata": {},
   "outputs": [
    {
     "data": {
      "text/plain": [
       "torch.Size([32])"
      ]
     },
     "execution_count": 34,
     "metadata": {},
     "output_type": "execute_result"
    }
   ],
   "source": [
    "m.bias.shape"
   ]
  },
  {
   "cell_type": "code",
   "execution_count": 37,
   "id": "04e9f68d",
   "metadata": {},
   "outputs": [
    {
     "data": {
      "text/plain": [
       "Parameter containing:\n",
       "tensor([[-0.2371,  0.1884,  0.1582, -0.1038,  0.2110,  0.0080,  0.1970, -0.0121,\n",
       "         -0.0140,  0.1950, -0.0003,  0.1218,  0.1931, -0.0900,  0.1377, -0.1761],\n",
       "        [ 0.0350, -0.1317, -0.0299,  0.2123, -0.0136,  0.0377,  0.0149,  0.2272,\n",
       "          0.0980,  0.0094,  0.1085, -0.1585, -0.0748,  0.2235, -0.0646,  0.0566],\n",
       "        [-0.0562,  0.1622, -0.2323,  0.1485,  0.1737, -0.2412, -0.0140, -0.0034,\n",
       "          0.1272, -0.0396, -0.2141,  0.2277, -0.1338, -0.2223,  0.2253, -0.1279],\n",
       "        [-0.1788, -0.1062,  0.0319, -0.2034,  0.1251,  0.0298, -0.1290, -0.0395,\n",
       "          0.1543,  0.0006,  0.1883, -0.0903,  0.1270,  0.1565, -0.1290,  0.0008],\n",
       "        [ 0.0876,  0.2337, -0.0402,  0.1875,  0.0762, -0.1558,  0.1129, -0.0317,\n",
       "         -0.1452, -0.1059, -0.1464, -0.0203,  0.1235,  0.2140, -0.1951,  0.1594],\n",
       "        [ 0.0288,  0.0039, -0.1284,  0.2404,  0.1954,  0.0512, -0.1711,  0.1141,\n",
       "          0.1629, -0.1116, -0.2275, -0.0529, -0.1554, -0.0803, -0.2002, -0.1263],\n",
       "        [ 0.1804, -0.0069, -0.1853,  0.0290,  0.1149,  0.1910,  0.2087,  0.1802,\n",
       "          0.0224,  0.2358,  0.1603, -0.2229, -0.0769, -0.0753,  0.0701, -0.0143],\n",
       "        [ 0.0146,  0.2377,  0.0324, -0.1718, -0.0149, -0.1594, -0.1796,  0.0379,\n",
       "         -0.2328, -0.0235,  0.0988,  0.1833, -0.1437,  0.0207, -0.1581,  0.1625],\n",
       "        [-0.2122, -0.2045,  0.1819,  0.1793,  0.1737,  0.2107,  0.0345,  0.0527,\n",
       "          0.0122,  0.0471, -0.1777, -0.0444, -0.1562,  0.0884, -0.0992, -0.0836],\n",
       "        [-0.1320, -0.0979, -0.2194, -0.0876,  0.0689, -0.1199, -0.0900,  0.2445,\n",
       "          0.0907,  0.0737, -0.1701,  0.1193, -0.2184, -0.0110,  0.2196, -0.0397],\n",
       "        [-0.2307, -0.1322,  0.0629, -0.0596,  0.1771, -0.2146,  0.1715, -0.1206,\n",
       "         -0.1123, -0.0606,  0.0309,  0.1090,  0.0538, -0.0399,  0.1675,  0.1461],\n",
       "        [-0.0557, -0.0262, -0.0180, -0.0077, -0.1782,  0.0211, -0.0623,  0.1477,\n",
       "          0.1263,  0.1955,  0.1446, -0.2319,  0.2176,  0.1996,  0.0933, -0.0866],\n",
       "        [-0.2344,  0.0032, -0.1707, -0.2430,  0.0749, -0.2277,  0.0277, -0.0183,\n",
       "         -0.1232,  0.2439, -0.0171,  0.0483,  0.1360, -0.1721, -0.1274, -0.1090],\n",
       "        [-0.1167, -0.1194,  0.2112, -0.1194,  0.2163,  0.1192,  0.1952, -0.1165,\n",
       "         -0.2289,  0.0918,  0.0381, -0.0577, -0.0218,  0.2136, -0.1981,  0.0889],\n",
       "        [ 0.1784,  0.0104,  0.1029,  0.0640, -0.0083, -0.0701,  0.0552, -0.1391,\n",
       "         -0.1938,  0.1865, -0.1674,  0.1457, -0.2355, -0.2212,  0.2134,  0.1949],\n",
       "        [-0.1783,  0.1580, -0.0335, -0.1660,  0.0635,  0.1094,  0.1854, -0.1958,\n",
       "          0.0206,  0.1510,  0.2370, -0.0616, -0.0488, -0.0113,  0.2088,  0.2264],\n",
       "        [-0.2394,  0.2162, -0.2406, -0.2349, -0.0023, -0.0123,  0.0025,  0.2197,\n",
       "          0.2041, -0.1102, -0.1142, -0.0675,  0.0892,  0.1062,  0.0958,  0.0625],\n",
       "        [ 0.1478, -0.1313, -0.1539, -0.1334, -0.0396, -0.1217,  0.0903, -0.1871,\n",
       "          0.0227, -0.1606, -0.2345,  0.2409,  0.0716,  0.2053,  0.1703,  0.1376],\n",
       "        [ 0.2236, -0.2206,  0.0777,  0.0164,  0.1503,  0.1084,  0.0293,  0.1097,\n",
       "         -0.0151, -0.1689,  0.2012,  0.0127,  0.1131, -0.0873,  0.1392, -0.0895],\n",
       "        [ 0.0019, -0.1938, -0.1616, -0.1312, -0.0961, -0.0268,  0.0210,  0.2292,\n",
       "          0.2434,  0.1584, -0.2378,  0.1555,  0.2089, -0.1889,  0.0627,  0.0547],\n",
       "        [-0.0357,  0.0864, -0.1174, -0.0288,  0.0792,  0.2171,  0.1256,  0.2313,\n",
       "          0.1823,  0.0117,  0.0716, -0.1497,  0.0182, -0.0705,  0.1408, -0.1203],\n",
       "        [ 0.1678, -0.1547,  0.0435,  0.0821,  0.1531,  0.2347, -0.1030, -0.1542,\n",
       "         -0.1584, -0.2058, -0.1432, -0.0534,  0.1041,  0.0351, -0.1247, -0.1456],\n",
       "        [ 0.0035,  0.1729, -0.2360, -0.2216, -0.1642,  0.2285,  0.2226,  0.1284,\n",
       "         -0.1085,  0.0298, -0.1154,  0.2170,  0.1521,  0.0174,  0.2113, -0.2031],\n",
       "        [ 0.1583, -0.1784,  0.1128,  0.2103, -0.2002, -0.1404, -0.2347,  0.1530,\n",
       "         -0.1535, -0.0562,  0.0624, -0.0408, -0.0273, -0.0778, -0.0158, -0.1535],\n",
       "        [ 0.1399,  0.1518, -0.1032, -0.1552, -0.0076, -0.1708,  0.1904, -0.2189,\n",
       "          0.1185,  0.0652, -0.0715, -0.1432,  0.0489, -0.0690, -0.1483, -0.1775],\n",
       "        [ 0.1786, -0.0139, -0.0921, -0.1136, -0.0302, -0.1770,  0.1440,  0.0028,\n",
       "         -0.1083,  0.1916,  0.0570, -0.2137, -0.2499,  0.2226, -0.0129,  0.2269],\n",
       "        [ 0.0917, -0.2015,  0.1094, -0.1920, -0.1830,  0.2244, -0.2181,  0.1011,\n",
       "         -0.1904,  0.0139,  0.1024, -0.0132,  0.1406, -0.0870,  0.0401,  0.1211],\n",
       "        [-0.0994, -0.0288,  0.1284, -0.1736,  0.1857, -0.1032,  0.0854,  0.1218,\n",
       "         -0.0891, -0.0922, -0.1296, -0.2095,  0.0185, -0.0698, -0.0910,  0.1473],\n",
       "        [ 0.2305,  0.1522, -0.2171, -0.1316, -0.0183,  0.0179,  0.1203,  0.2337,\n",
       "          0.1976, -0.1513, -0.2410, -0.0675,  0.0836,  0.2437, -0.2028, -0.1296],\n",
       "        [ 0.1717,  0.2304, -0.0064,  0.0918,  0.2137,  0.0361,  0.0464,  0.0011,\n",
       "          0.2277, -0.1167, -0.2340, -0.2394,  0.1868,  0.1512,  0.0636,  0.2083],\n",
       "        [ 0.2404, -0.0421, -0.0225, -0.2010,  0.0683,  0.0768,  0.0794,  0.0155,\n",
       "          0.1619,  0.0927,  0.0234,  0.2356,  0.1125, -0.1848,  0.2211, -0.1216],\n",
       "        [ 0.0304, -0.2045,  0.1321,  0.2023, -0.2435,  0.2272,  0.1908, -0.1908,\n",
       "          0.1076,  0.1217,  0.0985, -0.1943, -0.1085,  0.0018, -0.1803, -0.0319]],\n",
       "       requires_grad=True)"
      ]
     },
     "execution_count": 37,
     "metadata": {},
     "output_type": "execute_result"
    }
   ],
   "source": [
    "m.weight"
   ]
  },
  {
   "cell_type": "markdown",
   "id": "56376474",
   "metadata": {},
   "source": [
    "### Backpropagation"
   ]
  },
  {
   "cell_type": "code",
   "execution_count": 38,
   "id": "a727d920",
   "metadata": {},
   "outputs": [],
   "source": [
    "x = torch.randn(10, 16)"
   ]
  },
  {
   "cell_type": "markdown",
   "id": "c5f2ddc9",
   "metadata": {},
   "source": [
    "$$\n",
    "y = xA^T + b\n",
    "$$\n",
    "\n",
    "$$\n",
    "l = \\sum_{i, j} y_{ij}\n",
    "$$\n",
    "\n",
    "$$\n",
    "\\frac{dl}{dy_{ij}} = 1\n",
    "$$\n",
    "\n",
    "$$\n",
    "\\frac{dl}{dA_{jk}} = \\sum_{i} \\frac{dl}{dy_{ij}} \\frac{dy_{ij}}{dA_{jk}} = \\sum_{i} x_{ik}\n",
    "$$"
   ]
  },
  {
   "cell_type": "code",
   "execution_count": 40,
   "id": "9991d53a",
   "metadata": {},
   "outputs": [],
   "source": [
    "y = m(x)"
   ]
  },
  {
   "cell_type": "code",
   "execution_count": 41,
   "id": "3c06ac5c",
   "metadata": {},
   "outputs": [
    {
     "data": {
      "text/plain": [
       "torch.Size([10, 32])"
      ]
     },
     "execution_count": 41,
     "metadata": {},
     "output_type": "execute_result"
    }
   ],
   "source": [
    "y.shape"
   ]
  },
  {
   "cell_type": "code",
   "execution_count": 42,
   "id": "40cc1ecc",
   "metadata": {},
   "outputs": [],
   "source": [
    "l = y.sum()"
   ]
  },
  {
   "cell_type": "code",
   "execution_count": 43,
   "id": "5f053414",
   "metadata": {},
   "outputs": [
    {
     "data": {
      "text/plain": [
       "tensor(22.8026, grad_fn=<SumBackward0>)"
      ]
     },
     "execution_count": 43,
     "metadata": {},
     "output_type": "execute_result"
    }
   ],
   "source": [
    "l"
   ]
  },
  {
   "cell_type": "code",
   "execution_count": 44,
   "id": "c490c800",
   "metadata": {},
   "outputs": [
    {
     "data": {
      "text/plain": [
       "tensor(22.8026)"
      ]
     },
     "execution_count": 44,
     "metadata": {},
     "output_type": "execute_result"
    }
   ],
   "source": [
    "torch.tensor(22.8026)"
   ]
  },
  {
   "cell_type": "code",
   "execution_count": 45,
   "id": "1f5638f6",
   "metadata": {},
   "outputs": [],
   "source": [
    "l.backward()"
   ]
  },
  {
   "cell_type": "code",
   "execution_count": 49,
   "id": "c12f5da4",
   "metadata": {},
   "outputs": [
    {
     "data": {
      "text/plain": [
       "tensor([ 3.3711,  2.1774, -1.4181, -2.0468,  0.7947, -1.1670,  1.4792,  6.0249,\n",
       "         6.1702, -1.1099, -1.3857,  5.4470,  1.9963,  2.6993, -4.4533,  5.0641])"
      ]
     },
     "execution_count": 49,
     "metadata": {},
     "output_type": "execute_result"
    }
   ],
   "source": [
    "x.sum(dim=0)"
   ]
  },
  {
   "cell_type": "code",
   "execution_count": 47,
   "id": "42c34e0e",
   "metadata": {},
   "outputs": [
    {
     "data": {
      "text/plain": [
       "tensor([[ 3.3711,  2.1774, -1.4181, -2.0468,  0.7947, -1.1670,  1.4792,  6.0249,\n",
       "          6.1702, -1.1099, -1.3857,  5.4470,  1.9963,  2.6993, -4.4533,  5.0641],\n",
       "        [ 3.3711,  2.1774, -1.4181, -2.0468,  0.7947, -1.1670,  1.4792,  6.0249,\n",
       "          6.1702, -1.1099, -1.3857,  5.4470,  1.9963,  2.6993, -4.4533,  5.0641],\n",
       "        [ 3.3711,  2.1774, -1.4181, -2.0468,  0.7947, -1.1670,  1.4792,  6.0249,\n",
       "          6.1702, -1.1099, -1.3857,  5.4470,  1.9963,  2.6993, -4.4533,  5.0641],\n",
       "        [ 3.3711,  2.1774, -1.4181, -2.0468,  0.7947, -1.1670,  1.4792,  6.0249,\n",
       "          6.1702, -1.1099, -1.3857,  5.4470,  1.9963,  2.6993, -4.4533,  5.0641],\n",
       "        [ 3.3711,  2.1774, -1.4181, -2.0468,  0.7947, -1.1670,  1.4792,  6.0249,\n",
       "          6.1702, -1.1099, -1.3857,  5.4470,  1.9963,  2.6993, -4.4533,  5.0641],\n",
       "        [ 3.3711,  2.1774, -1.4181, -2.0468,  0.7947, -1.1670,  1.4792,  6.0249,\n",
       "          6.1702, -1.1099, -1.3857,  5.4470,  1.9963,  2.6993, -4.4533,  5.0641],\n",
       "        [ 3.3711,  2.1774, -1.4181, -2.0468,  0.7947, -1.1670,  1.4792,  6.0249,\n",
       "          6.1702, -1.1099, -1.3857,  5.4470,  1.9963,  2.6993, -4.4533,  5.0641],\n",
       "        [ 3.3711,  2.1774, -1.4181, -2.0468,  0.7947, -1.1670,  1.4792,  6.0249,\n",
       "          6.1702, -1.1099, -1.3857,  5.4470,  1.9963,  2.6993, -4.4533,  5.0641],\n",
       "        [ 3.3711,  2.1774, -1.4181, -2.0468,  0.7947, -1.1670,  1.4792,  6.0249,\n",
       "          6.1702, -1.1099, -1.3857,  5.4470,  1.9963,  2.6993, -4.4533,  5.0641],\n",
       "        [ 3.3711,  2.1774, -1.4181, -2.0468,  0.7947, -1.1670,  1.4792,  6.0249,\n",
       "          6.1702, -1.1099, -1.3857,  5.4470,  1.9963,  2.6993, -4.4533,  5.0641],\n",
       "        [ 3.3711,  2.1774, -1.4181, -2.0468,  0.7947, -1.1670,  1.4792,  6.0249,\n",
       "          6.1702, -1.1099, -1.3857,  5.4470,  1.9963,  2.6993, -4.4533,  5.0641],\n",
       "        [ 3.3711,  2.1774, -1.4181, -2.0468,  0.7947, -1.1670,  1.4792,  6.0249,\n",
       "          6.1702, -1.1099, -1.3857,  5.4470,  1.9963,  2.6993, -4.4533,  5.0641],\n",
       "        [ 3.3711,  2.1774, -1.4181, -2.0468,  0.7947, -1.1670,  1.4792,  6.0249,\n",
       "          6.1702, -1.1099, -1.3857,  5.4470,  1.9963,  2.6993, -4.4533,  5.0641],\n",
       "        [ 3.3711,  2.1774, -1.4181, -2.0468,  0.7947, -1.1670,  1.4792,  6.0249,\n",
       "          6.1702, -1.1099, -1.3857,  5.4470,  1.9963,  2.6993, -4.4533,  5.0641],\n",
       "        [ 3.3711,  2.1774, -1.4181, -2.0468,  0.7947, -1.1670,  1.4792,  6.0249,\n",
       "          6.1702, -1.1099, -1.3857,  5.4470,  1.9963,  2.6993, -4.4533,  5.0641],\n",
       "        [ 3.3711,  2.1774, -1.4181, -2.0468,  0.7947, -1.1670,  1.4792,  6.0249,\n",
       "          6.1702, -1.1099, -1.3857,  5.4470,  1.9963,  2.6993, -4.4533,  5.0641],\n",
       "        [ 3.3711,  2.1774, -1.4181, -2.0468,  0.7947, -1.1670,  1.4792,  6.0249,\n",
       "          6.1702, -1.1099, -1.3857,  5.4470,  1.9963,  2.6993, -4.4533,  5.0641],\n",
       "        [ 3.3711,  2.1774, -1.4181, -2.0468,  0.7947, -1.1670,  1.4792,  6.0249,\n",
       "          6.1702, -1.1099, -1.3857,  5.4470,  1.9963,  2.6993, -4.4533,  5.0641],\n",
       "        [ 3.3711,  2.1774, -1.4181, -2.0468,  0.7947, -1.1670,  1.4792,  6.0249,\n",
       "          6.1702, -1.1099, -1.3857,  5.4470,  1.9963,  2.6993, -4.4533,  5.0641],\n",
       "        [ 3.3711,  2.1774, -1.4181, -2.0468,  0.7947, -1.1670,  1.4792,  6.0249,\n",
       "          6.1702, -1.1099, -1.3857,  5.4470,  1.9963,  2.6993, -4.4533,  5.0641],\n",
       "        [ 3.3711,  2.1774, -1.4181, -2.0468,  0.7947, -1.1670,  1.4792,  6.0249,\n",
       "          6.1702, -1.1099, -1.3857,  5.4470,  1.9963,  2.6993, -4.4533,  5.0641],\n",
       "        [ 3.3711,  2.1774, -1.4181, -2.0468,  0.7947, -1.1670,  1.4792,  6.0249,\n",
       "          6.1702, -1.1099, -1.3857,  5.4470,  1.9963,  2.6993, -4.4533,  5.0641],\n",
       "        [ 3.3711,  2.1774, -1.4181, -2.0468,  0.7947, -1.1670,  1.4792,  6.0249,\n",
       "          6.1702, -1.1099, -1.3857,  5.4470,  1.9963,  2.6993, -4.4533,  5.0641],\n",
       "        [ 3.3711,  2.1774, -1.4181, -2.0468,  0.7947, -1.1670,  1.4792,  6.0249,\n",
       "          6.1702, -1.1099, -1.3857,  5.4470,  1.9963,  2.6993, -4.4533,  5.0641],\n",
       "        [ 3.3711,  2.1774, -1.4181, -2.0468,  0.7947, -1.1670,  1.4792,  6.0249,\n",
       "          6.1702, -1.1099, -1.3857,  5.4470,  1.9963,  2.6993, -4.4533,  5.0641],\n",
       "        [ 3.3711,  2.1774, -1.4181, -2.0468,  0.7947, -1.1670,  1.4792,  6.0249,\n",
       "          6.1702, -1.1099, -1.3857,  5.4470,  1.9963,  2.6993, -4.4533,  5.0641],\n",
       "        [ 3.3711,  2.1774, -1.4181, -2.0468,  0.7947, -1.1670,  1.4792,  6.0249,\n",
       "          6.1702, -1.1099, -1.3857,  5.4470,  1.9963,  2.6993, -4.4533,  5.0641],\n",
       "        [ 3.3711,  2.1774, -1.4181, -2.0468,  0.7947, -1.1670,  1.4792,  6.0249,\n",
       "          6.1702, -1.1099, -1.3857,  5.4470,  1.9963,  2.6993, -4.4533,  5.0641],\n",
       "        [ 3.3711,  2.1774, -1.4181, -2.0468,  0.7947, -1.1670,  1.4792,  6.0249,\n",
       "          6.1702, -1.1099, -1.3857,  5.4470,  1.9963,  2.6993, -4.4533,  5.0641],\n",
       "        [ 3.3711,  2.1774, -1.4181, -2.0468,  0.7947, -1.1670,  1.4792,  6.0249,\n",
       "          6.1702, -1.1099, -1.3857,  5.4470,  1.9963,  2.6993, -4.4533,  5.0641],\n",
       "        [ 3.3711,  2.1774, -1.4181, -2.0468,  0.7947, -1.1670,  1.4792,  6.0249,\n",
       "          6.1702, -1.1099, -1.3857,  5.4470,  1.9963,  2.6993, -4.4533,  5.0641],\n",
       "        [ 3.3711,  2.1774, -1.4181, -2.0468,  0.7947, -1.1670,  1.4792,  6.0249,\n",
       "          6.1702, -1.1099, -1.3857,  5.4470,  1.9963,  2.6993, -4.4533,  5.0641]])"
      ]
     },
     "execution_count": 47,
     "metadata": {},
     "output_type": "execute_result"
    }
   ],
   "source": [
    "m.weight.grad"
   ]
  },
  {
   "cell_type": "code",
   "execution_count": 52,
   "id": "1816e3ba",
   "metadata": {},
   "outputs": [],
   "source": [
    "x = torch.randn(20, 16)\n",
    "y = torch.randn(20)\n",
    "m = nn.Linear(16, 1)"
   ]
  },
  {
   "cell_type": "code",
   "execution_count": 54,
   "id": "b6790bec",
   "metadata": {},
   "outputs": [
    {
     "data": {
      "text/plain": [
       "torch.Size([20, 1])"
      ]
     },
     "execution_count": 54,
     "metadata": {},
     "output_type": "execute_result"
    }
   ],
   "source": [
    "pred = m(x)\n",
    "pred.shape"
   ]
  },
  {
   "cell_type": "code",
   "execution_count": 57,
   "id": "c9ed7872",
   "metadata": {},
   "outputs": [],
   "source": [
    "l = (y - pred[:, 0]).square().mean()"
   ]
  },
  {
   "cell_type": "code",
   "execution_count": 59,
   "id": "02cb9732",
   "metadata": {},
   "outputs": [],
   "source": [
    "l.backward()"
   ]
  },
  {
   "cell_type": "code",
   "execution_count": 60,
   "id": "b78bcd26",
   "metadata": {},
   "outputs": [
    {
     "data": {
      "text/plain": [
       "tensor([[ 0.0926,  0.1217,  0.0116, -0.2551,  0.0975,  0.4251,  0.2561, -0.9257,\n",
       "          0.1846, -0.8890,  1.3015, -0.4800,  0.4307,  0.2382, -0.6516, -0.6163]])"
      ]
     },
     "execution_count": 60,
     "metadata": {},
     "output_type": "execute_result"
    }
   ],
   "source": [
    "m.weight.grad"
   ]
  },
  {
   "cell_type": "code",
   "execution_count": 62,
   "id": "1ce93148",
   "metadata": {},
   "outputs": [
    {
     "ename": "RuntimeError",
     "evalue": "grad can be implicitly created only for scalar outputs",
     "output_type": "error",
     "traceback": [
      "\u001b[0;31m---------------------------------------------------------------------------\u001b[0m",
      "\u001b[0;31mRuntimeError\u001b[0m                              Traceback (most recent call last)",
      "Input \u001b[0;32mIn [62]\u001b[0m, in \u001b[0;36m<cell line: 1>\u001b[0;34m()\u001b[0m\n\u001b[0;32m----> 1\u001b[0m \u001b[43mpred\u001b[49m\u001b[38;5;241;43m.\u001b[39;49m\u001b[43mbackward\u001b[49m\u001b[43m(\u001b[49m\u001b[43m)\u001b[49m\n",
      "File \u001b[0;32m~/opt/anaconda3/envs/based/lib/python3.10/site-packages/torch/_tensor.py:487\u001b[0m, in \u001b[0;36mTensor.backward\u001b[0;34m(self, gradient, retain_graph, create_graph, inputs)\u001b[0m\n\u001b[1;32m    477\u001b[0m \u001b[38;5;28;01mif\u001b[39;00m has_torch_function_unary(\u001b[38;5;28mself\u001b[39m):\n\u001b[1;32m    478\u001b[0m     \u001b[38;5;28;01mreturn\u001b[39;00m handle_torch_function(\n\u001b[1;32m    479\u001b[0m         Tensor\u001b[38;5;241m.\u001b[39mbackward,\n\u001b[1;32m    480\u001b[0m         (\u001b[38;5;28mself\u001b[39m,),\n\u001b[0;32m   (...)\u001b[0m\n\u001b[1;32m    485\u001b[0m         inputs\u001b[38;5;241m=\u001b[39minputs,\n\u001b[1;32m    486\u001b[0m     )\n\u001b[0;32m--> 487\u001b[0m \u001b[43mtorch\u001b[49m\u001b[38;5;241;43m.\u001b[39;49m\u001b[43mautograd\u001b[49m\u001b[38;5;241;43m.\u001b[39;49m\u001b[43mbackward\u001b[49m\u001b[43m(\u001b[49m\n\u001b[1;32m    488\u001b[0m \u001b[43m    \u001b[49m\u001b[38;5;28;43mself\u001b[39;49m\u001b[43m,\u001b[49m\u001b[43m \u001b[49m\u001b[43mgradient\u001b[49m\u001b[43m,\u001b[49m\u001b[43m \u001b[49m\u001b[43mretain_graph\u001b[49m\u001b[43m,\u001b[49m\u001b[43m \u001b[49m\u001b[43mcreate_graph\u001b[49m\u001b[43m,\u001b[49m\u001b[43m \u001b[49m\u001b[43minputs\u001b[49m\u001b[38;5;241;43m=\u001b[39;49m\u001b[43minputs\u001b[49m\n\u001b[1;32m    489\u001b[0m \u001b[43m\u001b[49m\u001b[43m)\u001b[49m\n",
      "File \u001b[0;32m~/opt/anaconda3/envs/based/lib/python3.10/site-packages/torch/autograd/__init__.py:190\u001b[0m, in \u001b[0;36mbackward\u001b[0;34m(tensors, grad_tensors, retain_graph, create_graph, grad_variables, inputs)\u001b[0m\n\u001b[1;32m    186\u001b[0m inputs \u001b[38;5;241m=\u001b[39m (inputs,) \u001b[38;5;28;01mif\u001b[39;00m \u001b[38;5;28misinstance\u001b[39m(inputs, torch\u001b[38;5;241m.\u001b[39mTensor) \u001b[38;5;28;01melse\u001b[39;00m \\\n\u001b[1;32m    187\u001b[0m     \u001b[38;5;28mtuple\u001b[39m(inputs) \u001b[38;5;28;01mif\u001b[39;00m inputs \u001b[38;5;129;01mis\u001b[39;00m \u001b[38;5;129;01mnot\u001b[39;00m \u001b[38;5;28;01mNone\u001b[39;00m \u001b[38;5;28;01melse\u001b[39;00m \u001b[38;5;28mtuple\u001b[39m()\n\u001b[1;32m    189\u001b[0m grad_tensors_ \u001b[38;5;241m=\u001b[39m _tensor_or_tensors_to_tuple(grad_tensors, \u001b[38;5;28mlen\u001b[39m(tensors))\n\u001b[0;32m--> 190\u001b[0m grad_tensors_ \u001b[38;5;241m=\u001b[39m \u001b[43m_make_grads\u001b[49m\u001b[43m(\u001b[49m\u001b[43mtensors\u001b[49m\u001b[43m,\u001b[49m\u001b[43m \u001b[49m\u001b[43mgrad_tensors_\u001b[49m\u001b[43m,\u001b[49m\u001b[43m \u001b[49m\u001b[43mis_grads_batched\u001b[49m\u001b[38;5;241;43m=\u001b[39;49m\u001b[38;5;28;43;01mFalse\u001b[39;49;00m\u001b[43m)\u001b[49m\n\u001b[1;32m    191\u001b[0m \u001b[38;5;28;01mif\u001b[39;00m retain_graph \u001b[38;5;129;01mis\u001b[39;00m \u001b[38;5;28;01mNone\u001b[39;00m:\n\u001b[1;32m    192\u001b[0m     retain_graph \u001b[38;5;241m=\u001b[39m create_graph\n",
      "File \u001b[0;32m~/opt/anaconda3/envs/based/lib/python3.10/site-packages/torch/autograd/__init__.py:85\u001b[0m, in \u001b[0;36m_make_grads\u001b[0;34m(outputs, grads, is_grads_batched)\u001b[0m\n\u001b[1;32m     83\u001b[0m \u001b[38;5;28;01mif\u001b[39;00m out\u001b[38;5;241m.\u001b[39mrequires_grad:\n\u001b[1;32m     84\u001b[0m     \u001b[38;5;28;01mif\u001b[39;00m out\u001b[38;5;241m.\u001b[39mnumel() \u001b[38;5;241m!=\u001b[39m \u001b[38;5;241m1\u001b[39m:\n\u001b[0;32m---> 85\u001b[0m         \u001b[38;5;28;01mraise\u001b[39;00m \u001b[38;5;167;01mRuntimeError\u001b[39;00m(\u001b[38;5;124m\"\u001b[39m\u001b[38;5;124mgrad can be implicitly created only for scalar outputs\u001b[39m\u001b[38;5;124m\"\u001b[39m)\n\u001b[1;32m     86\u001b[0m     new_grads\u001b[38;5;241m.\u001b[39mappend(torch\u001b[38;5;241m.\u001b[39mones_like(out, memory_format\u001b[38;5;241m=\u001b[39mtorch\u001b[38;5;241m.\u001b[39mpreserve_format))\n\u001b[1;32m     87\u001b[0m \u001b[38;5;28;01melse\u001b[39;00m:\n",
      "\u001b[0;31mRuntimeError\u001b[0m: grad can be implicitly created only for scalar outputs"
     ]
    }
   ],
   "source": [
    "pred.backward()"
   ]
  },
  {
   "cell_type": "code",
   "execution_count": 64,
   "id": "ee2fd1c6",
   "metadata": {},
   "outputs": [],
   "source": [
    "amax = torch.argmax(pred[:, 0])"
   ]
  },
  {
   "cell_type": "code",
   "execution_count": 65,
   "id": "55772171",
   "metadata": {},
   "outputs": [
    {
     "data": {
      "text/plain": [
       "tensor(14)"
      ]
     },
     "execution_count": 65,
     "metadata": {},
     "output_type": "execute_result"
    }
   ],
   "source": [
    "amax"
   ]
  },
  {
   "cell_type": "code",
   "execution_count": 66,
   "id": "d84ac474",
   "metadata": {},
   "outputs": [
    {
     "ename": "RuntimeError",
     "evalue": "element 0 of tensors does not require grad and does not have a grad_fn",
     "output_type": "error",
     "traceback": [
      "\u001b[0;31m---------------------------------------------------------------------------\u001b[0m",
      "\u001b[0;31mRuntimeError\u001b[0m                              Traceback (most recent call last)",
      "Input \u001b[0;32mIn [66]\u001b[0m, in \u001b[0;36m<cell line: 1>\u001b[0;34m()\u001b[0m\n\u001b[0;32m----> 1\u001b[0m \u001b[43mamax\u001b[49m\u001b[38;5;241;43m.\u001b[39;49m\u001b[43mbackward\u001b[49m\u001b[43m(\u001b[49m\u001b[43m)\u001b[49m\n",
      "File \u001b[0;32m~/opt/anaconda3/envs/based/lib/python3.10/site-packages/torch/_tensor.py:487\u001b[0m, in \u001b[0;36mTensor.backward\u001b[0;34m(self, gradient, retain_graph, create_graph, inputs)\u001b[0m\n\u001b[1;32m    477\u001b[0m \u001b[38;5;28;01mif\u001b[39;00m has_torch_function_unary(\u001b[38;5;28mself\u001b[39m):\n\u001b[1;32m    478\u001b[0m     \u001b[38;5;28;01mreturn\u001b[39;00m handle_torch_function(\n\u001b[1;32m    479\u001b[0m         Tensor\u001b[38;5;241m.\u001b[39mbackward,\n\u001b[1;32m    480\u001b[0m         (\u001b[38;5;28mself\u001b[39m,),\n\u001b[0;32m   (...)\u001b[0m\n\u001b[1;32m    485\u001b[0m         inputs\u001b[38;5;241m=\u001b[39minputs,\n\u001b[1;32m    486\u001b[0m     )\n\u001b[0;32m--> 487\u001b[0m \u001b[43mtorch\u001b[49m\u001b[38;5;241;43m.\u001b[39;49m\u001b[43mautograd\u001b[49m\u001b[38;5;241;43m.\u001b[39;49m\u001b[43mbackward\u001b[49m\u001b[43m(\u001b[49m\n\u001b[1;32m    488\u001b[0m \u001b[43m    \u001b[49m\u001b[38;5;28;43mself\u001b[39;49m\u001b[43m,\u001b[49m\u001b[43m \u001b[49m\u001b[43mgradient\u001b[49m\u001b[43m,\u001b[49m\u001b[43m \u001b[49m\u001b[43mretain_graph\u001b[49m\u001b[43m,\u001b[49m\u001b[43m \u001b[49m\u001b[43mcreate_graph\u001b[49m\u001b[43m,\u001b[49m\u001b[43m \u001b[49m\u001b[43minputs\u001b[49m\u001b[38;5;241;43m=\u001b[39;49m\u001b[43minputs\u001b[49m\n\u001b[1;32m    489\u001b[0m \u001b[43m\u001b[49m\u001b[43m)\u001b[49m\n",
      "File \u001b[0;32m~/opt/anaconda3/envs/based/lib/python3.10/site-packages/torch/autograd/__init__.py:197\u001b[0m, in \u001b[0;36mbackward\u001b[0;34m(tensors, grad_tensors, retain_graph, create_graph, grad_variables, inputs)\u001b[0m\n\u001b[1;32m    192\u001b[0m     retain_graph \u001b[38;5;241m=\u001b[39m create_graph\n\u001b[1;32m    194\u001b[0m \u001b[38;5;66;03m# The reason we repeat same the comment below is that\u001b[39;00m\n\u001b[1;32m    195\u001b[0m \u001b[38;5;66;03m# some Python versions print out the first line of a multi-line function\u001b[39;00m\n\u001b[1;32m    196\u001b[0m \u001b[38;5;66;03m# calls in the traceback and some print out the last line\u001b[39;00m\n\u001b[0;32m--> 197\u001b[0m \u001b[43mVariable\u001b[49m\u001b[38;5;241;43m.\u001b[39;49m\u001b[43m_execution_engine\u001b[49m\u001b[38;5;241;43m.\u001b[39;49m\u001b[43mrun_backward\u001b[49m\u001b[43m(\u001b[49m\u001b[43m  \u001b[49m\u001b[38;5;66;43;03m# Calls into the C++ engine to run the backward pass\u001b[39;49;00m\n\u001b[1;32m    198\u001b[0m \u001b[43m    \u001b[49m\u001b[43mtensors\u001b[49m\u001b[43m,\u001b[49m\u001b[43m \u001b[49m\u001b[43mgrad_tensors_\u001b[49m\u001b[43m,\u001b[49m\u001b[43m \u001b[49m\u001b[43mretain_graph\u001b[49m\u001b[43m,\u001b[49m\u001b[43m \u001b[49m\u001b[43mcreate_graph\u001b[49m\u001b[43m,\u001b[49m\u001b[43m \u001b[49m\u001b[43minputs\u001b[49m\u001b[43m,\u001b[49m\n\u001b[1;32m    199\u001b[0m \u001b[43m    \u001b[49m\u001b[43mallow_unreachable\u001b[49m\u001b[38;5;241;43m=\u001b[39;49m\u001b[38;5;28;43;01mTrue\u001b[39;49;00m\u001b[43m,\u001b[49m\u001b[43m \u001b[49m\u001b[43maccumulate_grad\u001b[49m\u001b[38;5;241;43m=\u001b[39;49m\u001b[38;5;28;43;01mTrue\u001b[39;49;00m\u001b[43m)\u001b[49m\n",
      "\u001b[0;31mRuntimeError\u001b[0m: element 0 of tensors does not require grad and does not have a grad_fn"
     ]
    }
   ],
   "source": [
    "amax.backward()"
   ]
  },
  {
   "cell_type": "code",
   "execution_count": 67,
   "id": "fa024642",
   "metadata": {},
   "outputs": [
    {
     "data": {
      "text/plain": [
       "tensor([[0.5166],\n",
       "        [0.0870],\n",
       "        [0.8847],\n",
       "        [0.4556],\n",
       "        [0.6473],\n",
       "        [0.1229],\n",
       "        [0.4733],\n",
       "        [0.1784],\n",
       "        [0.0688],\n",
       "        [0.4110],\n",
       "        [0.3067],\n",
       "        [0.0992],\n",
       "        [0.7249],\n",
       "        [0.2329],\n",
       "        [0.9163],\n",
       "        [0.2615],\n",
       "        [0.3651],\n",
       "        [0.3841],\n",
       "        [0.1237],\n",
       "        [0.2316]], grad_fn=<AbsBackward0>)"
      ]
     },
     "execution_count": 67,
     "metadata": {},
     "output_type": "execute_result"
    }
   ],
   "source": [
    "torch.abs(pred)"
   ]
  },
  {
   "cell_type": "code",
   "execution_count": 74,
   "id": "36c00b0e",
   "metadata": {},
   "outputs": [],
   "source": [
    "x = torch.randn(20, 16)\n",
    "y = torch.randn(20)\n",
    "m = nn.Linear(16, 1)"
   ]
  },
  {
   "cell_type": "code",
   "execution_count": 75,
   "id": "56ac6f3c",
   "metadata": {},
   "outputs": [
    {
     "data": {
      "text/plain": [
       "tensor([[-1.2483,  0.3398, -1.2757, -0.1495,  0.4108,  0.5777, -1.1595,  0.1488,\n",
       "          0.1003,  0.3777,  0.7127, -0.8972,  0.0938,  0.5058,  0.5470, -0.2129]])"
      ]
     },
     "execution_count": 75,
     "metadata": {},
     "output_type": "execute_result"
    }
   ],
   "source": [
    "pred = m(x)\n",
    "l = (y - pred[:, 0]).square().mean()\n",
    "l.backward()\n",
    "m.weight.grad"
   ]
  },
  {
   "cell_type": "code",
   "execution_count": 76,
   "id": "15732fcd",
   "metadata": {},
   "outputs": [
    {
     "data": {
      "text/plain": [
       "tensor([[-2.4966,  0.6797, -2.5513, -0.2991,  0.8215,  1.1555, -2.3190,  0.2976,\n",
       "          0.2006,  0.7553,  1.4253, -1.7945,  0.1875,  1.0116,  1.0939, -0.4258]])"
      ]
     },
     "execution_count": 76,
     "metadata": {},
     "output_type": "execute_result"
    }
   ],
   "source": [
    "pred = m(x)\n",
    "l = (y - pred[:, 0]).square().mean()\n",
    "l.backward()\n",
    "m.weight.grad"
   ]
  },
  {
   "cell_type": "markdown",
   "id": "83ea507f",
   "metadata": {},
   "source": [
    "### Performance"
   ]
  },
  {
   "cell_type": "code",
   "execution_count": 101,
   "id": "c5d634d7",
   "metadata": {},
   "outputs": [],
   "source": [
    "A = np.random.randn(200, 100).astype(np.float32)\n",
    "B = np.random.randn(100, 300).astype(np.float32)"
   ]
  },
  {
   "cell_type": "markdown",
   "id": "417babd6",
   "metadata": {},
   "source": [
    "**1. Python loops**"
   ]
  },
  {
   "cell_type": "code",
   "execution_count": 78,
   "id": "e2444cdf",
   "metadata": {},
   "outputs": [
    {
     "name": "stdout",
     "output_type": "stream",
     "text": [
      "CPU times: user 3.49 s, sys: 20.2 ms, total: 3.51 s\n",
      "Wall time: 3.53 s\n"
     ]
    }
   ],
   "source": [
    "%%time\n",
    "C = np.zeros((200, 300))\n",
    "\n",
    "for i in range(A.shape[0]):\n",
    "    for j in range(B.shape[1]):\n",
    "        for k in range(A.shape[1]):\n",
    "            C[i, j] += A[i, k] * B[k, j]"
   ]
  },
  {
   "cell_type": "markdown",
   "id": "653c6dc2",
   "metadata": {},
   "source": [
    "**2. Numpy**"
   ]
  },
  {
   "cell_type": "code",
   "execution_count": 102,
   "id": "3a6641e5",
   "metadata": {},
   "outputs": [
    {
     "name": "stdout",
     "output_type": "stream",
     "text": [
      "197 µs ± 36.9 µs per loop (mean ± std. dev. of 7 runs, 1,000 loops each)\n"
     ]
    }
   ],
   "source": [
    "%%timeit\n",
    "C1 = A @ B"
   ]
  },
  {
   "cell_type": "markdown",
   "id": "1c085bb9",
   "metadata": {},
   "source": [
    "**3. Torch**"
   ]
  },
  {
   "cell_type": "code",
   "execution_count": 103,
   "id": "ad911e1a",
   "metadata": {},
   "outputs": [],
   "source": [
    "At = torch.from_numpy(A)\n",
    "Bt = torch.from_numpy(B)"
   ]
  },
  {
   "cell_type": "code",
   "execution_count": 104,
   "id": "7e7c790f",
   "metadata": {},
   "outputs": [
    {
     "name": "stdout",
     "output_type": "stream",
     "text": [
      "218 µs ± 14.1 µs per loop (mean ± std. dev. of 7 runs, 1,000 loops each)\n"
     ]
    }
   ],
   "source": [
    "%%timeit\n",
    "C2 = At @ Bt"
   ]
  },
  {
   "cell_type": "markdown",
   "id": "784a2d21",
   "metadata": {},
   "source": [
    "**4. Torch+MPS (MacOS with M1/M2/M3 only)**"
   ]
  },
  {
   "cell_type": "code",
   "execution_count": 128,
   "id": "ee256969",
   "metadata": {},
   "outputs": [
    {
     "data": {
      "text/plain": [
       "device(type='mps')"
      ]
     },
     "execution_count": 128,
     "metadata": {},
     "output_type": "execute_result"
    }
   ],
   "source": [
    "device = torch.device('mps')\n",
    "device"
   ]
  },
  {
   "cell_type": "code",
   "execution_count": 129,
   "id": "5247d31a",
   "metadata": {},
   "outputs": [],
   "source": [
    "At = At.to(device)\n",
    "Bt = Bt.to(device)"
   ]
  },
  {
   "cell_type": "code",
   "execution_count": 130,
   "id": "69b46c93",
   "metadata": {},
   "outputs": [
    {
     "name": "stdout",
     "output_type": "stream",
     "text": [
      "45.2 µs ± 1.79 µs per loop (mean ± std. dev. of 7 runs, 10,000 loops each)\n"
     ]
    }
   ],
   "source": [
    "%%timeit\n",
    "C3 = At @ Bt"
   ]
  },
  {
   "cell_type": "markdown",
   "id": "258dc2d1",
   "metadata": {},
   "source": [
    "**5. Torch+CUDA (GPU only, e.g. in Colab)**"
   ]
  },
  {
   "cell_type": "code",
   "execution_count": null,
   "id": "bfd50cf6",
   "metadata": {},
   "outputs": [],
   "source": [
    "%%bash\n",
    "export CUDA_VISIBLE_DEVICES=0\n",
    "echo $CUDA_VISIBLE_DEVICES"
   ]
  },
  {
   "cell_type": "code",
   "execution_count": null,
   "id": "0fa6c8a6",
   "metadata": {},
   "outputs": [],
   "source": [
    "!nvidia-smi"
   ]
  },
  {
   "cell_type": "markdown",
   "id": "430d550d",
   "metadata": {},
   "source": [
    "Not recommended:"
   ]
  },
  {
   "cell_type": "code",
   "execution_count": null,
   "id": "ef500557",
   "metadata": {},
   "outputs": [],
   "source": [
    "A = torch.randn(200, 100).cuda()\n",
    "B = torch.randn(100, 300).cuda()\n",
    "A, B"
   ]
  },
  {
   "cell_type": "markdown",
   "id": "d91cc667",
   "metadata": {},
   "source": [
    "Better:"
   ]
  },
  {
   "cell_type": "code",
   "execution_count": null,
   "id": "e809e991",
   "metadata": {},
   "outputs": [],
   "source": [
    "A = torch.randn(200, 100).to(device)\n",
    "B = torch.randn(100, 300).to(device)\n",
    "A, B"
   ]
  },
  {
   "cell_type": "code",
   "execution_count": null,
   "id": "da762f2c",
   "metadata": {},
   "outputs": [],
   "source": [
    "A = torch.randn(200, 100, device=device)\n",
    "B = torch.randn(100, 300, device=device)\n",
    "A, B"
   ]
  },
  {
   "cell_type": "code",
   "execution_count": null,
   "id": "681c51b4",
   "metadata": {},
   "outputs": [],
   "source": [
    "%%timeit\n",
    "C4 = A @ B"
   ]
  }
 ],
 "metadata": {
  "kernelspec": {
   "display_name": "Python 3 (ipykernel)",
   "language": "python",
   "name": "python3"
  },
  "language_info": {
   "codemirror_mode": {
    "name": "ipython",
    "version": 3
   },
   "file_extension": ".py",
   "mimetype": "text/x-python",
   "name": "python",
   "nbconvert_exporter": "python",
   "pygments_lexer": "ipython3",
   "version": "3.10.4"
  }
 },
 "nbformat": 4,
 "nbformat_minor": 5
}
